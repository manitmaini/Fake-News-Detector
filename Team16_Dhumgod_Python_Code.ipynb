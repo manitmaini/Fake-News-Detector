{
  "cells": [
    {
      "cell_type": "markdown",
      "metadata": {},
      "source": [
        "# Team 16 - Dhumgod\n",
        "Team Members:\n",
        "   - Aditya Narasimhan Sampath - CB.EN.U4ELC19004\n",
        "   - Manit Maini - CB.EN.U4ELC19029\n",
        "   - Pradhumna Guruprasad - CB.EN.U4ELC19036\n",
        "   - Shreyas Nagesh - CB.EN.U4ELC19052"
      ]
    },
    {
      "cell_type": "markdown",
      "metadata": {},
      "source": [
        "Importing the Neccessary Libraries"
      ]
    },
    {
      "cell_type": "code",
      "execution_count": 2,
      "metadata": {
        "colab": {
          "base_uri": "https://localhost:8080/"
        },
        "id": "tzVJYggQ_Hzm",
        "outputId": "f61d5866-f536-4115-99c2-b5eb56a3f474"
      },
      "outputs": [],
      "source": [
        "import nltk\n",
        "import pandas as pd\n",
        "import numpy as np\n",
        "from nltk.tokenize import word_tokenize, RegexpTokenizer\n",
        "from nltk.corpus import stopwords"
      ]
    },
    {
      "cell_type": "code",
      "execution_count": null,
      "metadata": {},
      "outputs": [],
      "source": [
        "\"\"\" nltk.download('punkt')\n",
        "nltk.download('stopwords')\n",
        "nltk.download('wordnet')\n",
        "nltk.download('averaged_perceptron_tagger') \"\"\""
      ]
    },
    {
      "cell_type": "markdown",
      "metadata": {},
      "source": [
        "Reading the Training Data and Testing Data"
      ]
    },
    {
      "cell_type": "code",
      "execution_count": 3,
      "metadata": {
        "colab": {
          "base_uri": "https://localhost:8080/"
        },
        "id": "_NS1bbMO_Hzt",
        "outputId": "eac4f75c-4de8-43a9-8f86-b4200731f288"
      },
      "outputs": [
        {
          "data": {
            "text/html": [
              "<div>\n",
              "<style scoped>\n",
              "    .dataframe tbody tr th:only-of-type {\n",
              "        vertical-align: middle;\n",
              "    }\n",
              "\n",
              "    .dataframe tbody tr th {\n",
              "        vertical-align: top;\n",
              "    }\n",
              "\n",
              "    .dataframe thead th {\n",
              "        text-align: right;\n",
              "    }\n",
              "</style>\n",
              "<table border=\"1\" class=\"dataframe\">\n",
              "  <thead>\n",
              "    <tr style=\"text-align: right;\">\n",
              "      <th></th>\n",
              "      <th>text</th>\n",
              "      <th>label</th>\n",
              "    </tr>\n",
              "  </thead>\n",
              "  <tbody>\n",
              "    <tr>\n",
              "      <th>0</th>\n",
              "      <td>Get the latest from TODAY Sign up for our news...</td>\n",
              "      <td>1</td>\n",
              "    </tr>\n",
              "    <tr>\n",
              "      <th>1</th>\n",
              "      <td>2d  Conan On The Funeral Trump Will Be Invited...</td>\n",
              "      <td>1</td>\n",
              "    </tr>\n",
              "    <tr>\n",
              "      <th>2</th>\n",
              "      <td>It’s safe to say that Instagram Stories has fa...</td>\n",
              "      <td>0</td>\n",
              "    </tr>\n",
              "    <tr>\n",
              "      <th>3</th>\n",
              "      <td>Much like a certain Amazon goddess with a lass...</td>\n",
              "      <td>0</td>\n",
              "    </tr>\n",
              "    <tr>\n",
              "      <th>4</th>\n",
              "      <td>At a time when the perfect outfit is just one ...</td>\n",
              "      <td>0</td>\n",
              "    </tr>\n",
              "  </tbody>\n",
              "</table>\n",
              "</div>"
            ],
            "text/plain": [
              "                                                text label\n",
              "0  Get the latest from TODAY Sign up for our news...     1\n",
              "1  2d  Conan On The Funeral Trump Will Be Invited...     1\n",
              "2  It’s safe to say that Instagram Stories has fa...     0\n",
              "3  Much like a certain Amazon goddess with a lass...     0\n",
              "4  At a time when the perfect outfit is just one ...     0"
            ]
          },
          "execution_count": 3,
          "metadata": {},
          "output_type": "execute_result"
        }
      ],
      "source": [
        "trainData = pd.read_csv(\"train.csv\", sep='\\t', encoding='utf-8')\n",
        "testData = pd.read_csv(\"test.csv\", sep='\\t', encoding='utf-8')\n",
        "trainData.head()"
      ]
    },
    {
      "cell_type": "code",
      "execution_count": 4,
      "metadata": {},
      "outputs": [
        {
          "name": "stdout",
          "output_type": "stream",
          "text": [
            "1615\n"
          ]
        }
      ],
      "source": [
        "for ind in trainData.index:\n",
        "    if trainData['label'][ind] == 'label':\n",
        "        print(ind)"
      ]
    },
    {
      "cell_type": "code",
      "execution_count": 5,
      "metadata": {},
      "outputs": [],
      "source": [
        "trainData = trainData.drop(1615)"
      ]
    },
    {
      "cell_type": "code",
      "execution_count": 6,
      "metadata": {
        "colab": {
          "base_uri": "https://localhost:8080/",
          "height": 206
        },
        "id": "0cPzTN2d_Hzx",
        "outputId": "b3f9b4a7-eeed-4290-c342-11e59b0188c6"
      },
      "outputs": [
        {
          "data": {
            "text/html": [
              "<div>\n",
              "<style scoped>\n",
              "    .dataframe tbody tr th:only-of-type {\n",
              "        vertical-align: middle;\n",
              "    }\n",
              "\n",
              "    .dataframe tbody tr th {\n",
              "        vertical-align: top;\n",
              "    }\n",
              "\n",
              "    .dataframe thead th {\n",
              "        text-align: right;\n",
              "    }\n",
              "</style>\n",
              "<table border=\"1\" class=\"dataframe\">\n",
              "  <thead>\n",
              "    <tr style=\"text-align: right;\">\n",
              "      <th></th>\n",
              "      <th>id</th>\n",
              "      <th>text</th>\n",
              "    </tr>\n",
              "  </thead>\n",
              "  <tbody>\n",
              "    <tr>\n",
              "      <th>0</th>\n",
              "      <td>2</td>\n",
              "      <td>The 2017 Teen Choice Awards ceremony was held ...</td>\n",
              "    </tr>\n",
              "    <tr>\n",
              "      <th>1</th>\n",
              "      <td>3</td>\n",
              "      <td>The concert, part of “The Joshua Tree Tour,” w...</td>\n",
              "    </tr>\n",
              "    <tr>\n",
              "      <th>2</th>\n",
              "      <td>4</td>\n",
              "      <td>Selena Gomez refuses to talk to her mother abo...</td>\n",
              "    </tr>\n",
              "    <tr>\n",
              "      <th>3</th>\n",
              "      <td>5</td>\n",
              "      <td>This is worse than a lump of coal in your stoc...</td>\n",
              "    </tr>\n",
              "    <tr>\n",
              "      <th>4</th>\n",
              "      <td>6</td>\n",
              "      <td>Luann De Lesseps is going to rehab after her a...</td>\n",
              "    </tr>\n",
              "  </tbody>\n",
              "</table>\n",
              "</div>"
            ],
            "text/plain": [
              "   id                                               text\n",
              "0   2  The 2017 Teen Choice Awards ceremony was held ...\n",
              "1   3  The concert, part of “The Joshua Tree Tour,” w...\n",
              "2   4  Selena Gomez refuses to talk to her mother abo...\n",
              "3   5  This is worse than a lump of coal in your stoc...\n",
              "4   6  Luann De Lesseps is going to rehab after her a..."
            ]
          },
          "execution_count": 6,
          "metadata": {},
          "output_type": "execute_result"
        }
      ],
      "source": [
        "testData.head()"
      ]
    },
    {
      "cell_type": "markdown",
      "metadata": {},
      "source": [
        "Merging the Training Data and Testing Data"
      ]
    },
    {
      "cell_type": "code",
      "execution_count": 7,
      "metadata": {
        "id": "RsQTdttk_Hzz"
      },
      "outputs": [],
      "source": [
        "mergedData = pd.concat((trainData.drop(['label'], axis=1), testData.drop('id', axis=1)), axis=0).reset_index().drop('index', axis=1)"
      ]
    },
    {
      "cell_type": "code",
      "execution_count": 8,
      "metadata": {
        "colab": {
          "base_uri": "https://localhost:8080/",
          "height": 206
        },
        "id": "5YEFp2LL_Hz0",
        "outputId": "87ff3c2b-e30a-4ebc-a85c-875361a57ecc"
      },
      "outputs": [
        {
          "data": {
            "text/html": [
              "<div>\n",
              "<style scoped>\n",
              "    .dataframe tbody tr th:only-of-type {\n",
              "        vertical-align: middle;\n",
              "    }\n",
              "\n",
              "    .dataframe tbody tr th {\n",
              "        vertical-align: top;\n",
              "    }\n",
              "\n",
              "    .dataframe thead th {\n",
              "        text-align: right;\n",
              "    }\n",
              "</style>\n",
              "<table border=\"1\" class=\"dataframe\">\n",
              "  <thead>\n",
              "    <tr style=\"text-align: right;\">\n",
              "      <th></th>\n",
              "      <th>text</th>\n",
              "    </tr>\n",
              "  </thead>\n",
              "  <tbody>\n",
              "    <tr>\n",
              "      <th>0</th>\n",
              "      <td>Get the latest from TODAY Sign up for our news...</td>\n",
              "    </tr>\n",
              "    <tr>\n",
              "      <th>1</th>\n",
              "      <td>2d  Conan On The Funeral Trump Will Be Invited...</td>\n",
              "    </tr>\n",
              "    <tr>\n",
              "      <th>2</th>\n",
              "      <td>It’s safe to say that Instagram Stories has fa...</td>\n",
              "    </tr>\n",
              "    <tr>\n",
              "      <th>3</th>\n",
              "      <td>Much like a certain Amazon goddess with a lass...</td>\n",
              "    </tr>\n",
              "    <tr>\n",
              "      <th>4</th>\n",
              "      <td>At a time when the perfect outfit is just one ...</td>\n",
              "    </tr>\n",
              "  </tbody>\n",
              "</table>\n",
              "</div>"
            ],
            "text/plain": [
              "                                                text\n",
              "0  Get the latest from TODAY Sign up for our news...\n",
              "1  2d  Conan On The Funeral Trump Will Be Invited...\n",
              "2  It’s safe to say that Instagram Stories has fa...\n",
              "3  Much like a certain Amazon goddess with a lass...\n",
              "4  At a time when the perfect outfit is just one ..."
            ]
          },
          "execution_count": 8,
          "metadata": {},
          "output_type": "execute_result"
        }
      ],
      "source": [
        "mergedData.head()"
      ]
    },
    {
      "cell_type": "markdown",
      "metadata": {},
      "source": [
        "Tokenizing and Removing stop words"
      ]
    },
    {
      "cell_type": "code",
      "execution_count": 9,
      "metadata": {
        "id": "OEQ8_X6f_Hz1"
      },
      "outputs": [],
      "source": [
        "def tokenization(data):\n",
        "    tokenizer = RegexpTokenizer(r'\\s+', gaps=True)\n",
        "    tokenData = []\n",
        "    for values in data.text:\n",
        "        tokenData.append(tokenizer.tokenize(values))\n",
        "    return tokenData\n",
        "    \n",
        "def clean_stopwords(tokendata):\n",
        "    sw = stopwords.words('english')\n",
        "    clean_data = [] \n",
        "    for data in tokendata:\n",
        "        clean_text = [words.lower() for words in data if words.lower() not in sw]\n",
        "        clean_data.append(clean_text) \n",
        "    return clean_data"
      ]
    },
    {
      "cell_type": "code",
      "execution_count": 10,
      "metadata": {
        "colab": {
          "base_uri": "https://localhost:8080/"
        },
        "id": "nis16Ofe_Hz2",
        "outputId": "572908fc-5383-4cd0-949c-7cd19e04bf6d"
      },
      "outputs": [
        {
          "name": "stdout",
          "output_type": "stream",
          "text": [
            "326 193\n"
          ]
        }
      ],
      "source": [
        "f = open('tokenized_data.txt', 'a', encoding=\"utf-8\")\n",
        "tokenData = tokenization(mergedData)\n",
        "for i in tokenData:\n",
        "    f.write(f'{i}\\n')\n",
        "f.close()\n",
        "\n",
        "f = open('clean_data.txt', 'a', encoding=\"utf-8\")\n",
        "clean_data = clean_stopwords(tokenData)\n",
        "for i in clean_data:\n",
        "    f.write(f'{i}\\n')\n",
        "f.close()\n",
        "\n",
        "print(len(tokenData[0]), len(clean_data[0]))"
      ]
    },
    {
      "cell_type": "markdown",
      "metadata": {},
      "source": [
        "Lemmatizing the data"
      ]
    },
    {
      "cell_type": "code",
      "execution_count": 11,
      "metadata": {
        "colab": {
          "base_uri": "https://localhost:8080/"
        },
        "id": "nHUuRZkz_Hz8",
        "outputId": "5fa1c8cc-7aca-4077-821c-0b0bc4c9a69e"
      },
      "outputs": [],
      "source": [
        "from nltk.stem import WordNetLemmatizer\n",
        "from nltk.corpus import wordnet\n",
        "\n",
        "lemmatizer = WordNetLemmatizer()\n",
        "def nltk_tag_to_wordnet_tag(nltk_tag):\n",
        "    if nltk_tag.startswith('J'):\n",
        "        return wordnet.ADJ\n",
        "    elif nltk_tag.startswith('V'):\n",
        "        return wordnet.VERB\n",
        "    elif nltk_tag.startswith('N'):\n",
        "        return wordnet.NOUN\n",
        "    elif nltk_tag.startswith('R'):\n",
        "        return wordnet.ADV\n",
        "    else:          \n",
        "        return None\n",
        "\n",
        "def lemmatize_sentence(sentence):\n",
        "    #tokenize the sentence and find the POS tag for each token\n",
        "    nltk_tagged = nltk.pos_tag(sentence)  \n",
        "    #tuple of (token, wordnet_tag)\n",
        "    wordnet_tagged = map(lambda x: (x[0], nltk_tag_to_wordnet_tag(x[1])), nltk_tagged)\n",
        "    lemmatized_sentence = []\n",
        "    f = open('WordTag.txt', 'a', encoding=\"utf-8\")\n",
        "    for word, tag in wordnet_tagged:\n",
        "        f.write(f'({word}, {tag})\\n')\n",
        "        if tag is None:\n",
        "            #if there is no available tag, append the token as is\n",
        "            lemmatized_sentence.append(word)\n",
        "        else:        \n",
        "            #else use the tag to lemmatize the token\n",
        "            lemmatized_sentence.append(lemmatizer.lemmatize(word, tag))\n",
        "    f.close()\n",
        "    return \" \".join(lemmatized_sentence)\n",
        "\n",
        "r = []\n",
        "fi = open('Lemma_Sent.txt', 'a', encoding=\"utf-8\")\n",
        "for i in range(len(clean_data)):\n",
        "    temp = lemmatize_sentence(clean_data[i])\n",
        "    r.append(temp)\n",
        "    fi.write(f'{temp}\\n')\n",
        "\n",
        "fi.close()\n",
        "\n"
      ]
    },
    {
      "cell_type": "code",
      "execution_count": 12,
      "metadata": {},
      "outputs": [],
      "source": [
        "df = pd.DataFrame(r, columns=['text'])\n",
        "df.to_csv('Lemma_Sent.csv', index=False)"
      ]
    },
    {
      "cell_type": "code",
      "execution_count": 13,
      "metadata": {},
      "outputs": [],
      "source": [
        "from sklearn.model_selection import train_test_split\n",
        "\n",
        "train_data = r[:len(trainData)]\n",
        "test_data = r[len(trainData):]\n",
        "\n",
        "X_train, X_test, y_train, y_test = train_test_split(train_data, trainData.label, test_size=0.2, random_state = 42)\n",
        "y_train = np.array(y_train.to_frame()['label'].astype(int).tolist())\n",
        "y_test = np.array(y_test.to_frame()['label'].astype(int).tolist())"
      ]
    },
    {
      "cell_type": "code",
      "execution_count": 14,
      "metadata": {},
      "outputs": [],
      "source": [
        "df = pd.DataFrame(X_train, columns=['text'])\n",
        "df.to_csv('Lemma_Sent.csv', index=False)"
      ]
    },
    {
      "cell_type": "code",
      "execution_count": 15,
      "metadata": {},
      "outputs": [],
      "source": [
        "import numpy as np\n",
        "import tensorflow as tf\n",
        "import pandas as pd\n",
        "from keras.preprocessing.text import Tokenizer\n",
        "from keras.preprocessing.sequence import pad_sequences\n",
        "from keras.models import Model, Sequential\n",
        "import keras\n",
        "from keras import layers\n",
        "from keras.callbacks import ModelCheckpoint"
      ]
    },
    {
      "cell_type": "code",
      "execution_count": 18,
      "metadata": {},
      "outputs": [
        {
          "name": "stdout",
          "output_type": "stream",
          "text": [
            "3988 174\n"
          ]
        }
      ],
      "source": [
        "tokenizer = Tokenizer()\n",
        "tokenizer.fit_on_texts(X_train)\n",
        "X_train_seq = tokenizer.texts_to_sequences(X_train)\n",
        "X_test_seq = tokenizer.texts_to_sequences(X_test)\n",
        "\n",
        "print(len(X_train_seq), len(X_train_seq[0]))\n",
        "\n",
        "X_train_seq_trunc = pad_sequences(X_train_seq, maxlen=1000)\n",
        "X_test_seq_trunc = pad_sequences(X_test_seq, maxlen=1000)\n"
      ]
    },
    {
      "cell_type": "code",
      "execution_count": 54,
      "metadata": {},
      "outputs": [
        {
          "name": "stdout",
          "output_type": "stream",
          "text": [
            "(998, 1000) (3988, 1000)\n"
          ]
        }
      ],
      "source": [
        "print(X_test_seq_trunc.shape, X_train_seq_trunc.shape)"
      ]
    },
    {
      "cell_type": "code",
      "execution_count": 56,
      "metadata": {},
      "outputs": [
        {
          "data": {
            "text/plain": [
              "array([[    0,     0,     0, ...,  4570,   133, 18268],\n",
              "       [29238,     8,    14, ...,  2293,     9,  3055],\n",
              "       [    0,     0,     0, ...,  4853,  1689,  1730],\n",
              "       ...,\n",
              "       [    0,     0,     0, ...,    89,   609,   624],\n",
              "       [ 1360,   542,     3, ...,  1838, 15179,   111],\n",
              "       [    0,     0,     0, ...,  3678,   138,   519]])"
            ]
          },
          "execution_count": 56,
          "metadata": {},
          "output_type": "execute_result"
        }
      ],
      "source": [
        "X_train_seq_trunc"
      ]
    },
    {
      "cell_type": "code",
      "execution_count": 18,
      "metadata": {},
      "outputs": [],
      "source": [
        "vocabSize = len(tokenizer.word_index) + 1\n",
        "\n",
        "cnnModel = Sequential()\n",
        "cnnModel.add(layers.Embedding(vocabSize, 16, input_length=1000))\n",
        "cnnModel.add(layers.Dropout(0.2))\n",
        "\n",
        "cnnModel.add(layers.Convolution1D(32,4,activation='relu'))\n",
        "cnnModel.add(layers.Dropout(0.3))\n",
        "\n",
        "cnnModel.add(layers.AveragePooling1D())\n",
        "\n",
        "cnnModel.add(layers.Convolution1D(64,4,activation='relu'))\n",
        "cnnModel.add(layers.Dropout(0.4))\n",
        "\n",
        "cnnModel.add(layers.AveragePooling1D())\n",
        "\n",
        "cnnModel.add(layers.Flatten())\n",
        "cnnModel.add(layers.Dropout(0.6))\n",
        "\n",
        "cnnModel.add(layers.Dense(units=1, activation='sigmoid'))\n",
        "#cnnModel.add(layers.Dense(units=1))"
      ]
    },
    {
      "cell_type": "code",
      "execution_count": 19,
      "metadata": {},
      "outputs": [
        {
          "name": "stdout",
          "output_type": "stream",
          "text": [
            "Model: \"sequential_1\"\n",
            "_________________________________________________________________\n",
            " Layer (type)                Output Shape              Param #   \n",
            "=================================================================\n",
            " embedding_1 (Embedding)     (None, 1000, 16)          1141040   \n",
            "                                                                 \n",
            " dropout_4 (Dropout)         (None, 1000, 16)          0         \n",
            "                                                                 \n",
            " conv1d_2 (Conv1D)           (None, 997, 32)           2080      \n",
            "                                                                 \n",
            " dropout_5 (Dropout)         (None, 997, 32)           0         \n",
            "                                                                 \n",
            " average_pooling1d_2 (Averag  (None, 498, 32)          0         \n",
            " ePooling1D)                                                     \n",
            "                                                                 \n",
            " conv1d_3 (Conv1D)           (None, 495, 64)           8256      \n",
            "                                                                 \n",
            " dropout_6 (Dropout)         (None, 495, 64)           0         \n",
            "                                                                 \n",
            " average_pooling1d_3 (Averag  (None, 247, 64)          0         \n",
            " ePooling1D)                                                     \n",
            "                                                                 \n",
            " flatten_1 (Flatten)         (None, 15808)             0         \n",
            "                                                                 \n",
            " dropout_7 (Dropout)         (None, 15808)             0         \n",
            "                                                                 \n",
            " dense_1 (Dense)             (None, 1)                 15809     \n",
            "                                                                 \n",
            "=================================================================\n",
            "Total params: 1,167,185\n",
            "Trainable params: 1,167,185\n",
            "Non-trainable params: 0\n",
            "_________________________________________________________________\n"
          ]
        }
      ],
      "source": [
        "cnnModel.summary()"
      ]
    },
    {
      "cell_type": "code",
      "execution_count": 20,
      "metadata": {},
      "outputs": [
        {
          "name": "stdout",
          "output_type": "stream",
          "text": [
            "Epoch 1/25\n",
            "16/16 [==============================] - ETA: 0s - loss: 0.6746 - binary_accuracy: 0.5980\n",
            "Epoch 1: val_binary_accuracy improved from -inf to 0.58216, saving model to model.h5\n",
            "16/16 [==============================] - 10s 560ms/step - loss: 0.6746 - binary_accuracy: 0.5980 - val_loss: 0.6790 - val_binary_accuracy: 0.5822\n",
            "Epoch 2/25\n",
            "16/16 [==============================] - ETA: 0s - loss: 0.6721 - binary_accuracy: 0.5995\n",
            "Epoch 2: val_binary_accuracy did not improve from 0.58216\n",
            "16/16 [==============================] - 8s 515ms/step - loss: 0.6721 - binary_accuracy: 0.5995 - val_loss: 0.6784 - val_binary_accuracy: 0.5822\n",
            "Epoch 3/25\n",
            "16/16 [==============================] - ETA: 0s - loss: 0.6701 - binary_accuracy: 0.5995\n",
            "Epoch 3: val_binary_accuracy did not improve from 0.58216\n",
            "16/16 [==============================] - 8s 491ms/step - loss: 0.6701 - binary_accuracy: 0.5995 - val_loss: 0.6762 - val_binary_accuracy: 0.5822\n",
            "Epoch 4/25\n",
            "16/16 [==============================] - ETA: 0s - loss: 0.6640 - binary_accuracy: 0.5995\n",
            "Epoch 4: val_binary_accuracy did not improve from 0.58216\n",
            "16/16 [==============================] - 8s 493ms/step - loss: 0.6640 - binary_accuracy: 0.5995 - val_loss: 0.6686 - val_binary_accuracy: 0.5822\n",
            "Epoch 5/25\n",
            "16/16 [==============================] - ETA: 0s - loss: 0.6367 - binary_accuracy: 0.6256\n",
            "Epoch 5: val_binary_accuracy improved from 0.58216 to 0.64429, saving model to model.h5\n",
            "16/16 [==============================] - 8s 506ms/step - loss: 0.6367 - binary_accuracy: 0.6256 - val_loss: 0.6228 - val_binary_accuracy: 0.6443\n",
            "Epoch 6/25\n",
            "16/16 [==============================] - ETA: 0s - loss: 0.4997 - binary_accuracy: 0.7462\n",
            "Epoch 6: val_binary_accuracy improved from 0.64429 to 0.74749, saving model to model.h5\n",
            "16/16 [==============================] - 8s 528ms/step - loss: 0.4997 - binary_accuracy: 0.7462 - val_loss: 0.5220 - val_binary_accuracy: 0.7475\n",
            "Epoch 7/25\n",
            "16/16 [==============================] - ETA: 0s - loss: 0.2801 - binary_accuracy: 0.8867\n",
            "Epoch 7: val_binary_accuracy improved from 0.74749 to 0.76152, saving model to model.h5\n",
            "16/16 [==============================] - 8s 505ms/step - loss: 0.2801 - binary_accuracy: 0.8867 - val_loss: 0.5739 - val_binary_accuracy: 0.7615\n",
            "Epoch 8/25\n",
            "16/16 [==============================] - ETA: 0s - loss: 0.1560 - binary_accuracy: 0.9443\n",
            "Epoch 8: val_binary_accuracy did not improve from 0.76152\n",
            "16/16 [==============================] - 8s 502ms/step - loss: 0.1560 - binary_accuracy: 0.9443 - val_loss: 0.6496 - val_binary_accuracy: 0.7525\n",
            "Epoch 9/25\n",
            "16/16 [==============================] - ETA: 0s - loss: 0.0894 - binary_accuracy: 0.9702\n",
            "Epoch 9: val_binary_accuracy did not improve from 0.76152\n",
            "16/16 [==============================] - 8s 515ms/step - loss: 0.0894 - binary_accuracy: 0.9702 - val_loss: 0.7359 - val_binary_accuracy: 0.7485\n",
            "Epoch 10/25\n",
            "16/16 [==============================] - ETA: 0s - loss: 0.0674 - binary_accuracy: 0.9764\n",
            "Epoch 10: val_binary_accuracy did not improve from 0.76152\n",
            "16/16 [==============================] - 8s 510ms/step - loss: 0.0674 - binary_accuracy: 0.9764 - val_loss: 0.8195 - val_binary_accuracy: 0.7365\n",
            "Epoch 11/25\n",
            "16/16 [==============================] - ETA: 0s - loss: 0.0563 - binary_accuracy: 0.9799\n",
            "Epoch 11: val_binary_accuracy did not improve from 0.76152\n",
            "16/16 [==============================] - 8s 501ms/step - loss: 0.0563 - binary_accuracy: 0.9799 - val_loss: 0.9135 - val_binary_accuracy: 0.7455\n",
            "Epoch 12/25\n",
            "16/16 [==============================] - ETA: 0s - loss: 0.0479 - binary_accuracy: 0.9829\n",
            "Epoch 12: val_binary_accuracy did not improve from 0.76152\n",
            "16/16 [==============================] - 8s 499ms/step - loss: 0.0479 - binary_accuracy: 0.9829 - val_loss: 0.9625 - val_binary_accuracy: 0.7435\n",
            "Epoch 13/25\n",
            "16/16 [==============================] - ETA: 0s - loss: 0.0426 - binary_accuracy: 0.9852\n",
            "Epoch 13: val_binary_accuracy did not improve from 0.76152\n",
            "16/16 [==============================] - 8s 502ms/step - loss: 0.0426 - binary_accuracy: 0.9852 - val_loss: 0.9601 - val_binary_accuracy: 0.7335\n",
            "Epoch 14/25\n",
            "16/16 [==============================] - ETA: 0s - loss: 0.0389 - binary_accuracy: 0.9867\n",
            "Epoch 14: val_binary_accuracy did not improve from 0.76152\n",
            "16/16 [==============================] - 8s 497ms/step - loss: 0.0389 - binary_accuracy: 0.9867 - val_loss: 1.0029 - val_binary_accuracy: 0.7415\n",
            "Epoch 15/25\n",
            "16/16 [==============================] - ETA: 0s - loss: 0.0358 - binary_accuracy: 0.9867\n",
            "Epoch 15: val_binary_accuracy did not improve from 0.76152\n",
            "16/16 [==============================] - 8s 499ms/step - loss: 0.0358 - binary_accuracy: 0.9867 - val_loss: 1.0747 - val_binary_accuracy: 0.7405\n",
            "Epoch 16/25\n",
            "16/16 [==============================] - ETA: 0s - loss: 0.0341 - binary_accuracy: 0.9892\n",
            "Epoch 16: val_binary_accuracy did not improve from 0.76152\n",
            "16/16 [==============================] - 8s 497ms/step - loss: 0.0341 - binary_accuracy: 0.9892 - val_loss: 0.9952 - val_binary_accuracy: 0.7325\n",
            "Epoch 17/25\n",
            "16/16 [==============================] - ETA: 0s - loss: 0.0300 - binary_accuracy: 0.9912\n",
            "Epoch 17: val_binary_accuracy did not improve from 0.76152\n",
            "16/16 [==============================] - 8s 500ms/step - loss: 0.0300 - binary_accuracy: 0.9912 - val_loss: 1.0388 - val_binary_accuracy: 0.7224\n",
            "Epoch 18/25\n",
            "16/16 [==============================] - ETA: 0s - loss: 0.0279 - binary_accuracy: 0.9902\n",
            "Epoch 18: val_binary_accuracy did not improve from 0.76152\n",
            "16/16 [==============================] - 8s 511ms/step - loss: 0.0279 - binary_accuracy: 0.9902 - val_loss: 1.0686 - val_binary_accuracy: 0.7295\n",
            "Epoch 19/25\n",
            "16/16 [==============================] - ETA: 0s - loss: 0.0247 - binary_accuracy: 0.9912\n",
            "Epoch 19: val_binary_accuracy did not improve from 0.76152\n",
            "16/16 [==============================] - 9s 534ms/step - loss: 0.0247 - binary_accuracy: 0.9912 - val_loss: 1.1534 - val_binary_accuracy: 0.7275\n",
            "Epoch 20/25\n",
            "16/16 [==============================] - ETA: 0s - loss: 0.0284 - binary_accuracy: 0.9897\n",
            "Epoch 20: val_binary_accuracy did not improve from 0.76152\n",
            "16/16 [==============================] - 9s 541ms/step - loss: 0.0284 - binary_accuracy: 0.9897 - val_loss: 1.1181 - val_binary_accuracy: 0.7325\n",
            "Epoch 21/25\n",
            "16/16 [==============================] - ETA: 0s - loss: 0.0258 - binary_accuracy: 0.9882\n",
            "Epoch 21: val_binary_accuracy did not improve from 0.76152\n",
            "16/16 [==============================] - 8s 499ms/step - loss: 0.0258 - binary_accuracy: 0.9882 - val_loss: 1.0721 - val_binary_accuracy: 0.7315\n",
            "Epoch 22/25\n",
            "16/16 [==============================] - ETA: 0s - loss: 0.0281 - binary_accuracy: 0.9905\n",
            "Epoch 22: val_binary_accuracy did not improve from 0.76152\n",
            "16/16 [==============================] - 8s 498ms/step - loss: 0.0281 - binary_accuracy: 0.9905 - val_loss: 1.2232 - val_binary_accuracy: 0.7315\n",
            "Epoch 23/25\n",
            "16/16 [==============================] - ETA: 0s - loss: 0.0267 - binary_accuracy: 0.9890\n",
            "Epoch 23: val_binary_accuracy did not improve from 0.76152\n",
            "16/16 [==============================] - 8s 496ms/step - loss: 0.0267 - binary_accuracy: 0.9890 - val_loss: 1.0982 - val_binary_accuracy: 0.7385\n",
            "Epoch 24/25\n",
            "16/16 [==============================] - ETA: 0s - loss: 0.0264 - binary_accuracy: 0.9915\n",
            "Epoch 24: val_binary_accuracy did not improve from 0.76152\n",
            "16/16 [==============================] - 8s 517ms/step - loss: 0.0264 - binary_accuracy: 0.9915 - val_loss: 1.1244 - val_binary_accuracy: 0.7285\n",
            "Epoch 25/25\n",
            "16/16 [==============================] - ETA: 0s - loss: 0.0240 - binary_accuracy: 0.9922\n",
            "Epoch 25: val_binary_accuracy did not improve from 0.76152\n",
            "16/16 [==============================] - 8s 497ms/step - loss: 0.0240 - binary_accuracy: 0.9922 - val_loss: 1.1387 - val_binary_accuracy: 0.7234\n"
          ]
        },
        {
          "data": {
            "text/plain": [
              "<keras.callbacks.History at 0x171e67b4670>"
            ]
          },
          "execution_count": 20,
          "metadata": {},
          "output_type": "execute_result"
        }
      ],
      "source": [
        "cnnModel.compile(optimizer='adam', loss=tf.keras.losses.BinaryCrossentropy(), \n",
        "                    metrics=[tf.keras.metrics.BinaryAccuracy()])\n",
        "\n",
        "checkpoint = ModelCheckpoint('model.h5',verbose=1, monitor='val_binary_accuracy',save_best_only=True, mode='auto')\n",
        "\n",
        "#checkpoint = ModelCheckpoint('model.h5',verbose=1, monitor='loss',save_best_only=True, mode='auto')\n",
        "\n",
        "\n",
        "cnnModel.fit(x=X_train_seq_trunc, y=y_train, batch_size=256, epochs=25, \n",
        "                validation_data=(X_test_seq_trunc,y_test), callbacks=[checkpoint])"
      ]
    },
    {
      "cell_type": "code",
      "execution_count": 33,
      "metadata": {},
      "outputs": [],
      "source": [
        "cnnModel = keras.models.load_model('model.h5')"
      ]
    },
    {
      "cell_type": "code",
      "execution_count": 34,
      "metadata": {},
      "outputs": [
        {
          "name": "stdout",
          "output_type": "stream",
          "text": [
            "32/32 [==============================] - 0s 9ms/step - loss: 0.5739 - binary_accuracy: 0.7615\n"
          ]
        },
        {
          "data": {
            "text/plain": [
              "[0.5738862156867981, 0.7615230679512024]"
            ]
          },
          "execution_count": 34,
          "metadata": {},
          "output_type": "execute_result"
        }
      ],
      "source": [
        "pred = cnnModel.evaluate(X_test_seq_trunc, y_test)\n",
        "pred"
      ]
    },
    {
      "cell_type": "code",
      "execution_count": 35,
      "metadata": {},
      "outputs": [],
      "source": [
        "from sklearn.metrics import roc_curve\n",
        "\n",
        "pred = cnnModel.predict(X_test_seq_trunc).ravel()\n",
        "fpr_keras, tpr_keras, thresholds_keras = roc_curve(y_test, pred)"
      ]
    },
    {
      "cell_type": "code",
      "execution_count": 36,
      "metadata": {},
      "outputs": [],
      "source": [
        "from sklearn.metrics import auc\n",
        "auc_keras = auc(fpr_keras, tpr_keras)"
      ]
    },
    {
      "cell_type": "code",
      "execution_count": 39,
      "metadata": {},
      "outputs": [
        {
          "data": {
            "image/png": "[encoded data removed]",
            "text/plain": [
              "<Figure size 432x288 with 1 Axes>"
            ]
          },
          "metadata": {
            "needs_background": "light"
          },
          "output_type": "display_data"
        }
      ],
      "source": [
        "import matplotlib.pyplot as plt\n",
        "\n",
        "plt.figure(1)\n",
        "plt.plot([0, 1], [0, 1], 'k--')\n",
        "plt.plot(fpr_keras, tpr_keras, label='CNN Classifier AUC = {:.3f})'.format(auc_keras))\n",
        "plt.xlabel('False positive rate')\n",
        "plt.ylabel('True positive rate')\n",
        "plt.title('ROC curve')\n",
        "plt.legend(loc='best')\n",
        "plt.show()"
      ]
    },
    {
      "cell_type": "code",
      "execution_count": 46,
      "metadata": {},
      "outputs": [
        {
          "name": "stdout",
          "output_type": "stream",
          "text": [
            "News: It’s safe to say that Instagram Stories has far surpassed its competitor Snapchat in popularity since it’s inception two years ago—and your favorite celebrities have hopped on the social media trend. Unlike a highly curated photo feed, Instagram Stories is where celebrities seem to be comfortable enough to be raw and open.  Need something to do while you’re waiting in line or on a short break? Take a peek at these celebrities’ Instagram Stories for some surprisingly engaging entertainment.  Busy Philipps, @busyphilipps  A fantastic story teller, Busy was dubbed by The New Yorker as “the breakout star of Instagram Stories”. She captures everything from morning workouts to paparazzi run-ins and everything in between. If it isn’t on Busy’s story, I am assuming it didn’t happen.  Mandy Moore, @mandymooremm  Following Mandy Moore for her many This is Us behind-the-scenes stories is worth it alone! She also InstaStoried her home being built and decorated, her Mount Kilimanjaro climb, and the preparation behind all the Hollywood red carpet events she’s recently attended.  Chrissy Teigen, @chrissyteigen  Because if you follow and love her on Twitter and Snapchat, why wouldn’t you watch her Instagram Stories for more of her humor, cooking, and adorable daughter Luna?  Reese Witherspoon, @reesewitherspoon  Reese may be one of the biggest stars in the world, but she is a down-to-earth breath of fresh air on her Instagram stories!  Sarah Hyland, @sarahhyland  Somehow the Modern Family star makes eating dinner solo while watching The Bachelor interesting enough to keep watching.  Candace Cameron Bure, @candacecbure  I’ve had a soft spot for Candace since growing up with her on Full House, and I am living for the resurgence of her career! Follow Candace for Instagram Stories about fashion, family, workouts, and the behind-the-scenes of her on movie and TV sets.  Eva Chen, @evachen212  Though she may be biased about using the platform since becoming Director of Fashion Partnerships at Instagram, she’s still one to watch! Eva chronicles her daily life from early mornings with her adorable kids to international fashion week events.  Jessica Alba, @jessicaalba  This new mama of three adorably shows how she juggles her home and work life. And now that she is preparing to be back on TV, there’s sure to be some behind-the-scenes sneak peeks!  Kristin Cavallari, @kristincavallari  From reality TV to cookbook author and fashion designer, Kristin shares her own recipes and has just opened her first brick-and-mortar  for her fashion and home design line, Uncommon James.  Spencer Pratt, @spencerpratt  Hear me out! The Hills alum may have a villainous bad rap from his 15 minutes of fame, but his Instagram stories highlight his  family life with his 6-month-old son Gunner and wife Heidi. His many obsessions include hummingbirds, working out, coffee, and Taylor Swift., Label: 0\n"
          ]
        }
      ],
      "source": [
        "for i in trainData.index:\n",
        "    if trainData['label'][i] == '0':\n",
        "        print(f\"News: {trainData['text'][i]}, Label: {trainData['label'][i]}\")\n",
        "        break"
      ]
    },
    {
      "cell_type": "code",
      "execution_count": 49,
      "metadata": {},
      "outputs": [
        {
          "name": "stdout",
          "output_type": "stream",
          "text": [
            "News: Ryan Reynolds and Blake Lively routinely troll each other on social media, but the Deadpool star took it to the next level when he was forced to defend his marriage this weekend.  An \"insider\" allegedly told IB Times, \"The past few years, Ryan's been working out of town while Blake stays home with the kids. The distance between them has taken its toll.\" The gossip site tweeted, \"Ryan Reynolds and wife Blake Lively struggling to spend 'quality time'\" together.  Advertisement - Continue Reading Below  And Reynolds' response to this report? \"I wish. I could use a little 'me time'.\"  As per usual, Reynolds is ready to tease his wife on social media, which suggests that their marriage is more than fine.  I wish. I could use a little “me time”. https://t.co/S6kXFsWaMe — Ryan Reynolds (@VancityReynolds) March 31, 2018  Reynolds and Lively have a long history of trolling one another, and their constant joking appears to help keep their relationship alive.  But, perhaps the couple's sweetest online moment, was when Reynolds was photographed with Lively for the Humans of New York Instagram account. Explaining why their marriage worked, Reynolds revealed:  \"She always responds with empathy. She meets anger with empathy. She meets hate with empathy. She'll take the time to imagine what happened to a person when they were five or six years old. And she's made me a more empathetic person. I had a very fractured relationship with my father. Before he died, she made me remember things I didn't want to remember. She made me remember the good times.\"  It's pretty clear that Reynolds and Lively are just fine right now, thank you very much., Label: 1\n"
          ]
        }
      ],
      "source": [
        "for i in trainData.index:\n",
        "    if i == 1511:\n",
        "        print(f\"News: {trainData['text'][i]}, Label: {trainData['label'][i]}\")\n",
        "        break"
      ]
    },
    {
      "cell_type": "code",
      "execution_count": 24,
      "metadata": {},
      "outputs": [],
      "source": [
        "from sklearn.preprocessing import MinMaxScaler\n",
        "\n",
        "cnnModel = Sequential()\n",
        "cnnModel.add(layers.Embedding(vocabSize, 16, input_length=1000))\n",
        "cnnModel.add(layers.Dropout(0.2))\n",
        "\n",
        "cnnModel.add(layers.Convolution1D(32,4,activation='relu'))\n",
        "cnnModel.add(layers.Dropout(0.3))\n",
        "\n",
        "cnnModel.add(layers.AveragePooling1D())\n",
        "\n",
        "cnnModel.add(layers.Convolution1D(64,4,activation='relu'))\n",
        "cnnModel.add(layers.Dropout(0.4))\n",
        "\n",
        "cnnModel.add(layers.AveragePooling1D())\n",
        "\n",
        "cnnModel.add(layers.Flatten())\n",
        "cnnModel.add(layers.Dropout(0.6))\n",
        "\n",
        "cnnModel.add(layers.Dense(units=1, activation='sigmoid'))\n",
        "\n",
        "cnnModel.compile(optimizer='adam', loss=tf.keras.losses.BinaryCrossentropy(), \n",
        "                    metrics=[tf.keras.metrics.BinaryAccuracy()])\n",
        "\n",
        "normal = MinMaxScaler().fit(X_train_seq_trunc)\n",
        "X_train_seq_trunc_n = normal.transform(X_train_seq_trunc)\n",
        "X_test_seq_trunc_n = normal.transform(X_test_seq_trunc)"
      ]
    },
    {
      "cell_type": "code",
      "execution_count": 55,
      "metadata": {},
      "outputs": [
        {
          "name": "stdout",
          "output_type": "stream",
          "text": [
            "(998, 1000) (3988, 1000)\n"
          ]
        }
      ],
      "source": [
        "print(X_test_seq_trunc_n.shape, X_train_seq_trunc_n.shape)"
      ]
    },
    {
      "cell_type": "code",
      "execution_count": 57,
      "metadata": {},
      "outputs": [
        {
          "data": {
            "text/plain": [
              "array([[0.00000000e+00, 0.00000000e+00, 0.00000000e+00, ...,\n",
              "        6.42575928e-02, 1.89202646e-03, 2.57484777e-01],\n",
              "       [4.39187058e-01, 1.16900956e-04, 1.98767641e-04, ...,\n",
              "        3.22412823e-02, 1.28031866e-04, 4.30480379e-02],\n",
              "       [0.00000000e+00, 0.00000000e+00, 0.00000000e+00, ...,\n",
              "        6.82367829e-02, 2.40273135e-02, 2.43713351e-02],\n",
              "       ...,\n",
              "       [0.00000000e+00, 0.00000000e+00, 0.00000000e+00, ...,\n",
              "        1.25140607e-03, 8.66348958e-03, 8.78157420e-03],\n",
              "       [2.04287023e-02, 7.92003975e-03, 4.25930658e-05, ...,\n",
              "        2.58436445e-02, 2.15932854e-01, 1.55051872e-03],\n",
              "       [0.00000000e+00, 0.00000000e+00, 0.00000000e+00, ...,\n",
              "        5.17154106e-02, 1.96315527e-03, 7.30153360e-03]])"
            ]
          },
          "execution_count": 57,
          "metadata": {},
          "output_type": "execute_result"
        }
      ],
      "source": [
        "X_train_seq_trunc_n"
      ]
    },
    {
      "cell_type": "code",
      "execution_count": 25,
      "metadata": {},
      "outputs": [
        {
          "name": "stdout",
          "output_type": "stream",
          "text": [
            "Epoch 1/25\n",
            "16/16 [==============================] - ETA: 0s - loss: 0.6764 - binary_accuracy: 0.5980\n",
            "Epoch 1: loss improved from inf to 0.67639, saving model to model1.h5\n",
            "16/16 [==============================] - 11s 582ms/step - loss: 0.6764 - binary_accuracy: 0.5980 - val_loss: 0.6796 - val_binary_accuracy: 0.5822\n",
            "Epoch 2/25\n",
            "16/16 [==============================] - ETA: 0s - loss: 0.6734 - binary_accuracy: 0.5995\n",
            "Epoch 2: loss improved from 0.67639 to 0.67339, saving model to model1.h5\n",
            "16/16 [==============================] - 9s 553ms/step - loss: 0.6734 - binary_accuracy: 0.5995 - val_loss: 0.6810 - val_binary_accuracy: 0.5822\n",
            "Epoch 3/25\n",
            "16/16 [==============================] - ETA: 0s - loss: 0.6751 - binary_accuracy: 0.5995\n",
            "Epoch 3: loss did not improve from 0.67339\n",
            "16/16 [==============================] - 8s 524ms/step - loss: 0.6751 - binary_accuracy: 0.5995 - val_loss: 0.6810 - val_binary_accuracy: 0.5822\n",
            "Epoch 4/25\n",
            "16/16 [==============================] - ETA: 0s - loss: 0.6728 - binary_accuracy: 0.5995\n",
            "Epoch 4: loss improved from 0.67339 to 0.67280, saving model to model1.h5\n",
            "16/16 [==============================] - 8s 507ms/step - loss: 0.6728 - binary_accuracy: 0.5995 - val_loss: 0.6804 - val_binary_accuracy: 0.5822\n",
            "Epoch 5/25\n",
            "16/16 [==============================] - ETA: 0s - loss: 0.6746 - binary_accuracy: 0.5995\n",
            "Epoch 5: loss did not improve from 0.67280\n",
            "16/16 [==============================] - 8s 491ms/step - loss: 0.6746 - binary_accuracy: 0.5995 - val_loss: 0.6800 - val_binary_accuracy: 0.5822\n",
            "Epoch 6/25\n",
            "16/16 [==============================] - ETA: 0s - loss: 0.6739 - binary_accuracy: 0.5995\n",
            "Epoch 6: loss did not improve from 0.67280\n",
            "16/16 [==============================] - 8s 507ms/step - loss: 0.6739 - binary_accuracy: 0.5995 - val_loss: 0.6813 - val_binary_accuracy: 0.5822\n",
            "Epoch 7/25\n",
            "16/16 [==============================] - ETA: 0s - loss: 0.6740 - binary_accuracy: 0.5995\n",
            "Epoch 7: loss did not improve from 0.67280\n",
            "16/16 [==============================] - 8s 508ms/step - loss: 0.6740 - binary_accuracy: 0.5995 - val_loss: 0.6802 - val_binary_accuracy: 0.5822\n",
            "Epoch 8/25\n",
            "16/16 [==============================] - ETA: 0s - loss: 0.6740 - binary_accuracy: 0.5995\n",
            "Epoch 8: loss did not improve from 0.67280\n",
            "16/16 [==============================] - 8s 490ms/step - loss: 0.6740 - binary_accuracy: 0.5995 - val_loss: 0.6806 - val_binary_accuracy: 0.5822\n",
            "Epoch 9/25\n",
            "16/16 [==============================] - ETA: 0s - loss: 0.6736 - binary_accuracy: 0.5995\n",
            "Epoch 9: loss did not improve from 0.67280\n",
            "16/16 [==============================] - 8s 512ms/step - loss: 0.6736 - binary_accuracy: 0.5995 - val_loss: 0.6798 - val_binary_accuracy: 0.5822\n",
            "Epoch 10/25\n",
            "16/16 [==============================] - ETA: 0s - loss: 0.6737 - binary_accuracy: 0.5995\n",
            "Epoch 10: loss did not improve from 0.67280\n",
            "16/16 [==============================] - 8s 510ms/step - loss: 0.6737 - binary_accuracy: 0.5995 - val_loss: 0.6829 - val_binary_accuracy: 0.5822\n",
            "Epoch 11/25\n",
            "16/16 [==============================] - ETA: 0s - loss: 0.6729 - binary_accuracy: 0.5995\n",
            "Epoch 11: loss did not improve from 0.67280\n",
            "16/16 [==============================] - 8s 482ms/step - loss: 0.6729 - binary_accuracy: 0.5995 - val_loss: 0.6798 - val_binary_accuracy: 0.5822\n",
            "Epoch 12/25\n",
            "16/16 [==============================] - ETA: 0s - loss: 0.6739 - binary_accuracy: 0.5995\n",
            "Epoch 12: loss did not improve from 0.67280\n",
            "16/16 [==============================] - 8s 476ms/step - loss: 0.6739 - binary_accuracy: 0.5995 - val_loss: 0.6803 - val_binary_accuracy: 0.5822\n",
            "Epoch 13/25\n",
            "16/16 [==============================] - ETA: 0s - loss: 0.6733 - binary_accuracy: 0.5995\n",
            "Epoch 13: loss did not improve from 0.67280\n",
            "16/16 [==============================] - 8s 488ms/step - loss: 0.6733 - binary_accuracy: 0.5995 - val_loss: 0.6796 - val_binary_accuracy: 0.5822\n",
            "Epoch 14/25\n",
            "16/16 [==============================] - ETA: 0s - loss: 0.6744 - binary_accuracy: 0.5995\n",
            "Epoch 14: loss did not improve from 0.67280\n",
            "16/16 [==============================] - 8s 499ms/step - loss: 0.6744 - binary_accuracy: 0.5995 - val_loss: 0.6796 - val_binary_accuracy: 0.5822\n",
            "Epoch 15/25\n",
            "16/16 [==============================] - ETA: 0s - loss: 0.6740 - binary_accuracy: 0.5995\n",
            "Epoch 15: loss did not improve from 0.67280\n",
            "16/16 [==============================] - 7s 465ms/step - loss: 0.6740 - binary_accuracy: 0.5995 - val_loss: 0.6803 - val_binary_accuracy: 0.5822\n",
            "Epoch 16/25\n",
            "16/16 [==============================] - ETA: 0s - loss: 0.6739 - binary_accuracy: 0.5995\n",
            "Epoch 16: loss did not improve from 0.67280\n",
            "16/16 [==============================] - 7s 466ms/step - loss: 0.6739 - binary_accuracy: 0.5995 - val_loss: 0.6798 - val_binary_accuracy: 0.5822\n",
            "Epoch 17/25\n",
            "16/16 [==============================] - ETA: 0s - loss: 0.6739 - binary_accuracy: 0.5995\n",
            "Epoch 17: loss did not improve from 0.67280\n",
            "16/16 [==============================] - 8s 502ms/step - loss: 0.6739 - binary_accuracy: 0.5995 - val_loss: 0.6803 - val_binary_accuracy: 0.5822\n",
            "Epoch 18/25\n",
            "16/16 [==============================] - ETA: 0s - loss: 0.6735 - binary_accuracy: 0.5995\n",
            "Epoch 18: loss did not improve from 0.67280\n",
            "16/16 [==============================] - 8s 485ms/step - loss: 0.6735 - binary_accuracy: 0.5995 - val_loss: 0.6796 - val_binary_accuracy: 0.5822\n",
            "Epoch 19/25\n",
            "16/16 [==============================] - ETA: 0s - loss: 0.6737 - binary_accuracy: 0.5995\n",
            "Epoch 19: loss did not improve from 0.67280\n",
            "16/16 [==============================] - 8s 493ms/step - loss: 0.6737 - binary_accuracy: 0.5995 - val_loss: 0.6797 - val_binary_accuracy: 0.5822\n",
            "Epoch 20/25\n",
            "16/16 [==============================] - ETA: 0s - loss: 0.6739 - binary_accuracy: 0.5995\n",
            "Epoch 20: loss did not improve from 0.67280\n",
            "16/16 [==============================] - 8s 524ms/step - loss: 0.6739 - binary_accuracy: 0.5995 - val_loss: 0.6803 - val_binary_accuracy: 0.5822\n",
            "Epoch 21/25\n",
            "16/16 [==============================] - ETA: 0s - loss: 0.6741 - binary_accuracy: 0.5995\n",
            "Epoch 21: loss did not improve from 0.67280\n",
            "16/16 [==============================] - 8s 524ms/step - loss: 0.6741 - binary_accuracy: 0.5995 - val_loss: 0.6797 - val_binary_accuracy: 0.5822\n",
            "Epoch 22/25\n",
            "16/16 [==============================] - ETA: 0s - loss: 0.6737 - binary_accuracy: 0.5995\n",
            "Epoch 22: loss did not improve from 0.67280\n",
            "16/16 [==============================] - 8s 509ms/step - loss: 0.6737 - binary_accuracy: 0.5995 - val_loss: 0.6809 - val_binary_accuracy: 0.5822\n",
            "Epoch 23/25\n",
            "16/16 [==============================] - ETA: 0s - loss: 0.6750 - binary_accuracy: 0.5995\n",
            "Epoch 23: loss did not improve from 0.67280\n",
            "16/16 [==============================] - 8s 486ms/step - loss: 0.6750 - binary_accuracy: 0.5995 - val_loss: 0.6799 - val_binary_accuracy: 0.5822\n",
            "Epoch 24/25\n",
            "16/16 [==============================] - ETA: 0s - loss: 0.6735 - binary_accuracy: 0.5995\n",
            "Epoch 24: loss did not improve from 0.67280\n",
            "16/16 [==============================] - 8s 504ms/step - loss: 0.6735 - binary_accuracy: 0.5995 - val_loss: 0.6795 - val_binary_accuracy: 0.5822\n",
            "Epoch 25/25\n",
            "16/16 [==============================] - ETA: 0s - loss: 0.6725 - binary_accuracy: 0.5995\n",
            "Epoch 25: loss improved from 0.67280 to 0.67248, saving model to model1.h5\n",
            "16/16 [==============================] - 9s 546ms/step - loss: 0.6725 - binary_accuracy: 0.5995 - val_loss: 0.6800 - val_binary_accuracy: 0.5822\n"
          ]
        },
        {
          "data": {
            "text/plain": [
              "<keras.callbacks.History at 0x171e544f5b0>"
            ]
          },
          "execution_count": 25,
          "metadata": {},
          "output_type": "execute_result"
        }
      ],
      "source": [
        "checkpoint_n = ModelCheckpoint('model1.h5',verbose=1, monitor='loss',save_best_only=True, mode='auto')\n",
        "\n",
        "\n",
        "cnnModel.fit(x=X_train_seq_trunc_n, y=y_train, batch_size=256, epochs=25, \n",
        "                validation_data=(X_test_seq_trunc_n,y_test), callbacks=[checkpoint_n])"
      ]
    },
    {
      "cell_type": "code",
      "execution_count": 26,
      "metadata": {},
      "outputs": [],
      "source": [
        "cnnModel = keras.models.load_model('model1.h5')"
      ]
    },
    {
      "cell_type": "code",
      "execution_count": 27,
      "metadata": {},
      "outputs": [
        {
          "name": "stdout",
          "output_type": "stream",
          "text": [
            "32/32 [==============================] - 0s 9ms/step - loss: 0.6800 - binary_accuracy: 0.5822\n"
          ]
        },
        {
          "data": {
            "text/plain": [
              "[0.6799591183662415, 0.5821643471717834]"
            ]
          },
          "execution_count": 27,
          "metadata": {},
          "output_type": "execute_result"
        }
      ],
      "source": [
        "pred = cnnModel.evaluate(X_test_seq_trunc_n, y_test)\n",
        "pred"
      ]
    },
    {
      "cell_type": "code",
      "execution_count": 28,
      "metadata": {},
      "outputs": [],
      "source": [
        "from sklearn.preprocessing import StandardScaler\n",
        "\n",
        "cnnModel = Sequential()\n",
        "cnnModel.add(layers.Embedding(vocabSize, 16, input_length=1000))\n",
        "cnnModel.add(layers.Dropout(0.2))\n",
        "\n",
        "cnnModel.add(layers.Convolution1D(32,4,activation='relu'))\n",
        "cnnModel.add(layers.Dropout(0.3))\n",
        "\n",
        "cnnModel.add(layers.AveragePooling1D())\n",
        "\n",
        "cnnModel.add(layers.Convolution1D(64,4,activation='relu'))\n",
        "cnnModel.add(layers.Dropout(0.4))\n",
        "\n",
        "cnnModel.add(layers.AveragePooling1D())\n",
        "\n",
        "cnnModel.add(layers.Flatten())\n",
        "cnnModel.add(layers.Dropout(0.6))\n",
        "\n",
        "cnnModel.add(layers.Dense(units=1, activation='sigmoid'))\n",
        "\n",
        "cnnModel.compile(optimizer='adam', loss=tf.keras.losses.BinaryCrossentropy(), \n",
        "                    metrics=[tf.keras.metrics.BinaryAccuracy()])\n",
        "\n",
        "standard = StandardScaler().fit(X_train_seq_trunc)\n",
        "X_train_seq_trunc_s = standard.transform(X_train_seq_trunc)\n",
        "X_test_seq_trunc_s = standard.transform(X_test_seq_trunc)"
      ]
    },
    {
      "cell_type": "code",
      "execution_count": 58,
      "metadata": {},
      "outputs": [
        {
          "data": {
            "text/plain": [
              "array([[-0.11383641, -0.11465849, -0.11532675, ...,  0.04941733,\n",
              "        -0.40346006,  1.06823431],\n",
              "       [10.55684767, -0.11182726, -0.11056632, ..., -0.17497167,\n",
              "        -0.41655438, -0.16237554],\n",
              "       [-0.11383641, -0.11465849, -0.11532675, ...,  0.07730582,\n",
              "        -0.23914757, -0.26955743],\n",
              "       ...,\n",
              "       [-0.11383641, -0.11465849, -0.11532675, ..., -0.39216683,\n",
              "        -0.3531948 , -0.35902397],\n",
              "       [ 0.38250842,  0.07715745, -0.11430666, ..., -0.21981005,\n",
              "         1.18538684, -0.40052156],\n",
              "       [-0.11383641, -0.11465849, -0.11532675, ..., -0.03848561,\n",
              "        -0.40293207, -0.36751763]])"
            ]
          },
          "execution_count": 58,
          "metadata": {},
          "output_type": "execute_result"
        }
      ],
      "source": [
        "X_train_seq_trunc_s"
      ]
    },
    {
      "cell_type": "code",
      "execution_count": 29,
      "metadata": {},
      "outputs": [
        {
          "name": "stdout",
          "output_type": "stream",
          "text": [
            "Epoch 1/25\n",
            "16/16 [==============================] - ETA: 0s - loss: 0.6778 - binary_accuracy: 0.5965\n",
            "Epoch 1: loss improved from inf to 0.67784, saving model to model2.h5\n",
            "16/16 [==============================] - 8s 433ms/step - loss: 0.6778 - binary_accuracy: 0.5965 - val_loss: 0.6809 - val_binary_accuracy: 0.5822\n",
            "Epoch 2/25\n",
            "16/16 [==============================] - ETA: 0s - loss: 0.6738 - binary_accuracy: 0.5995\n",
            "Epoch 2: loss improved from 0.67784 to 0.67380, saving model to model2.h5\n",
            "16/16 [==============================] - 6s 403ms/step - loss: 0.6738 - binary_accuracy: 0.5995 - val_loss: 0.6798 - val_binary_accuracy: 0.5822\n",
            "Epoch 3/25\n",
            "16/16 [==============================] - ETA: 0s - loss: 0.6735 - binary_accuracy: 0.5995\n",
            "Epoch 3: loss improved from 0.67380 to 0.67353, saving model to model2.h5\n",
            "16/16 [==============================] - 7s 412ms/step - loss: 0.6735 - binary_accuracy: 0.5995 - val_loss: 0.6796 - val_binary_accuracy: 0.5822\n",
            "Epoch 4/25\n",
            "16/16 [==============================] - ETA: 0s - loss: 0.6741 - binary_accuracy: 0.5995\n",
            "Epoch 4: loss did not improve from 0.67353\n",
            "16/16 [==============================] - 6s 382ms/step - loss: 0.6741 - binary_accuracy: 0.5995 - val_loss: 0.6801 - val_binary_accuracy: 0.5822\n",
            "Epoch 5/25\n",
            "16/16 [==============================] - ETA: 0s - loss: 0.6736 - binary_accuracy: 0.5995\n",
            "Epoch 5: loss did not improve from 0.67353\n",
            "16/16 [==============================] - 6s 377ms/step - loss: 0.6736 - binary_accuracy: 0.5995 - val_loss: 0.6800 - val_binary_accuracy: 0.5822\n",
            "Epoch 6/25\n",
            "16/16 [==============================] - ETA: 0s - loss: 0.6728 - binary_accuracy: 0.5995\n",
            "Epoch 6: loss improved from 0.67353 to 0.67276, saving model to model2.h5\n",
            "16/16 [==============================] - 6s 391ms/step - loss: 0.6728 - binary_accuracy: 0.5995 - val_loss: 0.6792 - val_binary_accuracy: 0.5822\n",
            "Epoch 7/25\n",
            "16/16 [==============================] - ETA: 0s - loss: 0.6726 - binary_accuracy: 0.5995\n",
            "Epoch 7: loss improved from 0.67276 to 0.67258, saving model to model2.h5\n",
            "16/16 [==============================] - 6s 382ms/step - loss: 0.6726 - binary_accuracy: 0.5995 - val_loss: 0.6795 - val_binary_accuracy: 0.5822\n",
            "Epoch 8/25\n",
            "16/16 [==============================] - ETA: 0s - loss: 0.6710 - binary_accuracy: 0.5995\n",
            "Epoch 8: loss improved from 0.67258 to 0.67101, saving model to model2.h5\n",
            "16/16 [==============================] - 6s 383ms/step - loss: 0.6710 - binary_accuracy: 0.5995 - val_loss: 0.6788 - val_binary_accuracy: 0.5822\n",
            "Epoch 9/25\n",
            "16/16 [==============================] - ETA: 0s - loss: 0.6695 - binary_accuracy: 0.5995\n",
            "Epoch 9: loss improved from 0.67101 to 0.66946, saving model to model2.h5\n",
            "16/16 [==============================] - 6s 383ms/step - loss: 0.6695 - binary_accuracy: 0.5995 - val_loss: 0.6793 - val_binary_accuracy: 0.5822\n",
            "Epoch 10/25\n",
            "16/16 [==============================] - ETA: 0s - loss: 0.6674 - binary_accuracy: 0.6018\n",
            "Epoch 10: loss improved from 0.66946 to 0.66737, saving model to model2.h5\n",
            "16/16 [==============================] - 6s 398ms/step - loss: 0.6674 - binary_accuracy: 0.6018 - val_loss: 0.6804 - val_binary_accuracy: 0.5802\n",
            "Epoch 11/25\n",
            "16/16 [==============================] - ETA: 0s - loss: 0.6628 - binary_accuracy: 0.6048\n",
            "Epoch 11: loss improved from 0.66737 to 0.66275, saving model to model2.h5\n",
            "16/16 [==============================] - 6s 385ms/step - loss: 0.6628 - binary_accuracy: 0.6048 - val_loss: 0.6804 - val_binary_accuracy: 0.5782\n",
            "Epoch 12/25\n",
            "16/16 [==============================] - ETA: 0s - loss: 0.6624 - binary_accuracy: 0.6036\n",
            "Epoch 12: loss improved from 0.66275 to 0.66240, saving model to model2.h5\n",
            "16/16 [==============================] - 6s 390ms/step - loss: 0.6624 - binary_accuracy: 0.6036 - val_loss: 0.6829 - val_binary_accuracy: 0.5792\n",
            "Epoch 13/25\n",
            "16/16 [==============================] - ETA: 0s - loss: 0.6596 - binary_accuracy: 0.6106\n",
            "Epoch 13: loss improved from 0.66240 to 0.65960, saving model to model2.h5\n",
            "16/16 [==============================] - 6s 395ms/step - loss: 0.6596 - binary_accuracy: 0.6106 - val_loss: 0.6829 - val_binary_accuracy: 0.5792\n",
            "Epoch 14/25\n",
            "16/16 [==============================] - ETA: 0s - loss: 0.6535 - binary_accuracy: 0.6131\n",
            "Epoch 14: loss improved from 0.65960 to 0.65346, saving model to model2.h5\n",
            "16/16 [==============================] - 7s 426ms/step - loss: 0.6535 - binary_accuracy: 0.6131 - val_loss: 0.6867 - val_binary_accuracy: 0.5802\n",
            "Epoch 15/25\n",
            "16/16 [==============================] - ETA: 0s - loss: 0.6514 - binary_accuracy: 0.6096\n",
            "Epoch 15: loss improved from 0.65346 to 0.65141, saving model to model2.h5\n",
            "16/16 [==============================] - 6s 391ms/step - loss: 0.6514 - binary_accuracy: 0.6096 - val_loss: 0.6897 - val_binary_accuracy: 0.5812\n",
            "Epoch 16/25\n",
            "16/16 [==============================] - ETA: 0s - loss: 0.6485 - binary_accuracy: 0.6231\n",
            "Epoch 16: loss improved from 0.65141 to 0.64848, saving model to model2.h5\n",
            "16/16 [==============================] - 6s 400ms/step - loss: 0.6485 - binary_accuracy: 0.6231 - val_loss: 0.6989 - val_binary_accuracy: 0.5822\n",
            "Epoch 17/25\n",
            "16/16 [==============================] - ETA: 0s - loss: 0.6453 - binary_accuracy: 0.6279\n",
            "Epoch 17: loss improved from 0.64848 to 0.64533, saving model to model2.h5\n",
            "16/16 [==============================] - 7s 440ms/step - loss: 0.6453 - binary_accuracy: 0.6279 - val_loss: 0.6922 - val_binary_accuracy: 0.5752\n",
            "Epoch 18/25\n",
            "16/16 [==============================] - ETA: 0s - loss: 0.6437 - binary_accuracy: 0.6209\n",
            "Epoch 18: loss improved from 0.64533 to 0.64370, saving model to model2.h5\n",
            "16/16 [==============================] - 7s 432ms/step - loss: 0.6437 - binary_accuracy: 0.6209 - val_loss: 0.6903 - val_binary_accuracy: 0.5741\n",
            "Epoch 19/25\n",
            "16/16 [==============================] - ETA: 0s - loss: 0.6421 - binary_accuracy: 0.6239\n",
            "Epoch 19: loss improved from 0.64370 to 0.64214, saving model to model2.h5\n",
            "16/16 [==============================] - 7s 459ms/step - loss: 0.6421 - binary_accuracy: 0.6239 - val_loss: 0.6970 - val_binary_accuracy: 0.5711\n",
            "Epoch 20/25\n",
            "16/16 [==============================] - ETA: 0s - loss: 0.6393 - binary_accuracy: 0.6314\n",
            "Epoch 20: loss improved from 0.64214 to 0.63930, saving model to model2.h5\n",
            "16/16 [==============================] - 7s 408ms/step - loss: 0.6393 - binary_accuracy: 0.6314 - val_loss: 0.6931 - val_binary_accuracy: 0.5762\n",
            "Epoch 21/25\n",
            "16/16 [==============================] - ETA: 0s - loss: 0.6306 - binary_accuracy: 0.6359\n",
            "Epoch 21: loss improved from 0.63930 to 0.63060, saving model to model2.h5\n",
            "16/16 [==============================] - 6s 395ms/step - loss: 0.6306 - binary_accuracy: 0.6359 - val_loss: 0.7007 - val_binary_accuracy: 0.5741\n",
            "Epoch 22/25\n",
            "16/16 [==============================] - ETA: 0s - loss: 0.6292 - binary_accuracy: 0.6394\n",
            "Epoch 22: loss improved from 0.63060 to 0.62917, saving model to model2.h5\n",
            "16/16 [==============================] - 7s 422ms/step - loss: 0.6292 - binary_accuracy: 0.6394 - val_loss: 0.7098 - val_binary_accuracy: 0.5812\n",
            "Epoch 23/25\n",
            "16/16 [==============================] - ETA: 0s - loss: 0.6322 - binary_accuracy: 0.6339\n",
            "Epoch 23: loss did not improve from 0.62917\n",
            "16/16 [==============================] - 6s 407ms/step - loss: 0.6322 - binary_accuracy: 0.6339 - val_loss: 0.7042 - val_binary_accuracy: 0.5822\n",
            "Epoch 24/25\n",
            "16/16 [==============================] - ETA: 0s - loss: 0.6249 - binary_accuracy: 0.6444\n",
            "Epoch 24: loss improved from 0.62917 to 0.62493, saving model to model2.h5\n",
            "16/16 [==============================] - 7s 424ms/step - loss: 0.6249 - binary_accuracy: 0.6444 - val_loss: 0.7115 - val_binary_accuracy: 0.5802\n",
            "Epoch 25/25\n",
            "16/16 [==============================] - ETA: 0s - loss: 0.6300 - binary_accuracy: 0.6304\n",
            "Epoch 25: loss did not improve from 0.62493\n",
            "16/16 [==============================] - 7s 431ms/step - loss: 0.6300 - binary_accuracy: 0.6304 - val_loss: 0.7091 - val_binary_accuracy: 0.5731\n"
          ]
        },
        {
          "data": {
            "text/plain": [
              "<keras.callbacks.History at 0x171ebadf910>"
            ]
          },
          "execution_count": 29,
          "metadata": {},
          "output_type": "execute_result"
        }
      ],
      "source": [
        "checkpoint_s = ModelCheckpoint('model2.h5',verbose=1, monitor='loss',save_best_only=True, mode='auto')\n",
        "\n",
        "\n",
        "cnnModel.fit(x=X_train_seq_trunc_s, y=y_train, batch_size=256, epochs=25, \n",
        "                validation_data=(X_test_seq_trunc_s,y_test), callbacks=[checkpoint_s])"
      ]
    },
    {
      "cell_type": "code",
      "execution_count": 30,
      "metadata": {},
      "outputs": [],
      "source": [
        "cnnModel = keras.models.load_model('model2.h5')"
      ]
    },
    {
      "cell_type": "code",
      "execution_count": 32,
      "metadata": {},
      "outputs": [
        {
          "name": "stdout",
          "output_type": "stream",
          "text": [
            "32/32 [==============================] - 0s 9ms/step - loss: 0.7115 - binary_accuracy: 0.5802\n"
          ]
        },
        {
          "data": {
            "text/plain": [
              "[0.7115397453308105, 0.5801603198051453]"
            ]
          },
          "execution_count": 32,
          "metadata": {},
          "output_type": "execute_result"
        }
      ],
      "source": [
        "pred = cnnModel.evaluate(X_test_seq_trunc_s, y_test)\n",
        "pred"
      ]
    },
    {
      "cell_type": "code",
      "execution_count": 53,
      "metadata": {},
      "outputs": [
        {
          "name": "stderr",
          "output_type": "stream",
          "text": [
            "D:\\Imp Programs\\Python\\lib\\site-packages\\sklearn\\linear_model\\_logistic.py:814: ConvergenceWarning: lbfgs failed to converge (status=1):\n",
            "STOP: TOTAL NO. of ITERATIONS REACHED LIMIT.\n",
            "\n",
            "Increase the number of iterations (max_iter) or scale the data as shown in:\n",
            "    https://scikit-learn.org/stable/modules/preprocessing.html\n",
            "Please also refer to the documentation for alternative solver options:\n",
            "    https://scikit-learn.org/stable/modules/linear_model.html#logistic-regression\n",
            "  n_iter_i = _check_optimize_result(\n",
            "D:\\Imp Programs\\Python\\lib\\site-packages\\sklearn\\linear_model\\_logistic.py:814: ConvergenceWarning: lbfgs failed to converge (status=1):\n",
            "STOP: TOTAL NO. of ITERATIONS REACHED LIMIT.\n",
            "\n",
            "Increase the number of iterations (max_iter) or scale the data as shown in:\n",
            "    https://scikit-learn.org/stable/modules/preprocessing.html\n",
            "Please also refer to the documentation for alternative solver options:\n",
            "    https://scikit-learn.org/stable/modules/linear_model.html#logistic-regression\n",
            "  n_iter_i = _check_optimize_result(\n",
            "D:\\Imp Programs\\Python\\lib\\site-packages\\sklearn\\linear_model\\_logistic.py:814: ConvergenceWarning: lbfgs failed to converge (status=1):\n",
            "STOP: TOTAL NO. of ITERATIONS REACHED LIMIT.\n",
            "\n",
            "Increase the number of iterations (max_iter) or scale the data as shown in:\n",
            "    https://scikit-learn.org/stable/modules/preprocessing.html\n",
            "Please also refer to the documentation for alternative solver options:\n",
            "    https://scikit-learn.org/stable/modules/linear_model.html#logistic-regression\n",
            "  n_iter_i = _check_optimize_result(\n",
            "D:\\Imp Programs\\Python\\lib\\site-packages\\sklearn\\linear_model\\_logistic.py:814: ConvergenceWarning: lbfgs failed to converge (status=1):\n",
            "STOP: TOTAL NO. of ITERATIONS REACHED LIMIT.\n",
            "\n",
            "Increase the number of iterations (max_iter) or scale the data as shown in:\n",
            "    https://scikit-learn.org/stable/modules/preprocessing.html\n",
            "Please also refer to the documentation for alternative solver options:\n",
            "    https://scikit-learn.org/stable/modules/linear_model.html#logistic-regression\n",
            "  n_iter_i = _check_optimize_result(\n",
            "D:\\Imp Programs\\Python\\lib\\site-packages\\sklearn\\linear_model\\_logistic.py:814: ConvergenceWarning: lbfgs failed to converge (status=1):\n",
            "STOP: TOTAL NO. of ITERATIONS REACHED LIMIT.\n",
            "\n",
            "Increase the number of iterations (max_iter) or scale the data as shown in:\n",
            "    https://scikit-learn.org/stable/modules/preprocessing.html\n",
            "Please also refer to the documentation for alternative solver options:\n",
            "    https://scikit-learn.org/stable/modules/linear_model.html#logistic-regression\n",
            "  n_iter_i = _check_optimize_result(\n",
            "D:\\Imp Programs\\Python\\lib\\site-packages\\sklearn\\linear_model\\_logistic.py:814: ConvergenceWarning: lbfgs failed to converge (status=1):\n",
            "STOP: TOTAL NO. of ITERATIONS REACHED LIMIT.\n",
            "\n",
            "Increase the number of iterations (max_iter) or scale the data as shown in:\n",
            "    https://scikit-learn.org/stable/modules/preprocessing.html\n",
            "Please also refer to the documentation for alternative solver options:\n",
            "    https://scikit-learn.org/stable/modules/linear_model.html#logistic-regression\n",
            "  n_iter_i = _check_optimize_result(\n",
            "D:\\Imp Programs\\Python\\lib\\site-packages\\sklearn\\linear_model\\_logistic.py:814: ConvergenceWarning: lbfgs failed to converge (status=1):\n",
            "STOP: TOTAL NO. of ITERATIONS REACHED LIMIT.\n",
            "\n",
            "Increase the number of iterations (max_iter) or scale the data as shown in:\n",
            "    https://scikit-learn.org/stable/modules/preprocessing.html\n",
            "Please also refer to the documentation for alternative solver options:\n",
            "    https://scikit-learn.org/stable/modules/linear_model.html#logistic-regression\n",
            "  n_iter_i = _check_optimize_result(\n",
            "D:\\Imp Programs\\Python\\lib\\site-packages\\sklearn\\linear_model\\_logistic.py:814: ConvergenceWarning: lbfgs failed to converge (status=1):\n",
            "STOP: TOTAL NO. of ITERATIONS REACHED LIMIT.\n",
            "\n",
            "Increase the number of iterations (max_iter) or scale the data as shown in:\n",
            "    https://scikit-learn.org/stable/modules/preprocessing.html\n",
            "Please also refer to the documentation for alternative solver options:\n",
            "    https://scikit-learn.org/stable/modules/linear_model.html#logistic-regression\n",
            "  n_iter_i = _check_optimize_result(\n",
            "D:\\Imp Programs\\Python\\lib\\site-packages\\sklearn\\linear_model\\_logistic.py:814: ConvergenceWarning: lbfgs failed to converge (status=1):\n",
            "STOP: TOTAL NO. of ITERATIONS REACHED LIMIT.\n",
            "\n",
            "Increase the number of iterations (max_iter) or scale the data as shown in:\n",
            "    https://scikit-learn.org/stable/modules/preprocessing.html\n",
            "Please also refer to the documentation for alternative solver options:\n",
            "    https://scikit-learn.org/stable/modules/linear_model.html#logistic-regression\n",
            "  n_iter_i = _check_optimize_result(\n",
            "D:\\Imp Programs\\Python\\lib\\site-packages\\sklearn\\linear_model\\_logistic.py:814: ConvergenceWarning: lbfgs failed to converge (status=1):\n",
            "STOP: TOTAL NO. of ITERATIONS REACHED LIMIT.\n",
            "\n",
            "Increase the number of iterations (max_iter) or scale the data as shown in:\n",
            "    https://scikit-learn.org/stable/modules/preprocessing.html\n",
            "Please also refer to the documentation for alternative solver options:\n",
            "    https://scikit-learn.org/stable/modules/linear_model.html#logistic-regression\n",
            "  n_iter_i = _check_optimize_result(\n",
            "D:\\Imp Programs\\Python\\lib\\site-packages\\sklearn\\linear_model\\_logistic.py:814: ConvergenceWarning: lbfgs failed to converge (status=1):\n",
            "STOP: TOTAL NO. of ITERATIONS REACHED LIMIT.\n",
            "\n",
            "Increase the number of iterations (max_iter) or scale the data as shown in:\n",
            "    https://scikit-learn.org/stable/modules/preprocessing.html\n",
            "Please also refer to the documentation for alternative solver options:\n",
            "    https://scikit-learn.org/stable/modules/linear_model.html#logistic-regression\n",
            "  n_iter_i = _check_optimize_result(\n",
            "D:\\Imp Programs\\Python\\lib\\site-packages\\sklearn\\linear_model\\_logistic.py:814: ConvergenceWarning: lbfgs failed to converge (status=1):\n",
            "STOP: TOTAL NO. of ITERATIONS REACHED LIMIT.\n",
            "\n",
            "Increase the number of iterations (max_iter) or scale the data as shown in:\n",
            "    https://scikit-learn.org/stable/modules/preprocessing.html\n",
            "Please also refer to the documentation for alternative solver options:\n",
            "    https://scikit-learn.org/stable/modules/linear_model.html#logistic-regression\n",
            "  n_iter_i = _check_optimize_result(\n",
            "D:\\Imp Programs\\Python\\lib\\site-packages\\sklearn\\linear_model\\_logistic.py:814: ConvergenceWarning: lbfgs failed to converge (status=1):\n",
            "STOP: TOTAL NO. of ITERATIONS REACHED LIMIT.\n",
            "\n",
            "Increase the number of iterations (max_iter) or scale the data as shown in:\n",
            "    https://scikit-learn.org/stable/modules/preprocessing.html\n",
            "Please also refer to the documentation for alternative solver options:\n",
            "    https://scikit-learn.org/stable/modules/linear_model.html#logistic-regression\n",
            "  n_iter_i = _check_optimize_result(\n",
            "D:\\Imp Programs\\Python\\lib\\site-packages\\sklearn\\linear_model\\_logistic.py:814: ConvergenceWarning: lbfgs failed to converge (status=1):\n",
            "STOP: TOTAL NO. of ITERATIONS REACHED LIMIT.\n",
            "\n",
            "Increase the number of iterations (max_iter) or scale the data as shown in:\n",
            "    https://scikit-learn.org/stable/modules/preprocessing.html\n",
            "Please also refer to the documentation for alternative solver options:\n",
            "    https://scikit-learn.org/stable/modules/linear_model.html#logistic-regression\n",
            "  n_iter_i = _check_optimize_result(\n",
            "D:\\Imp Programs\\Python\\lib\\site-packages\\sklearn\\linear_model\\_logistic.py:814: ConvergenceWarning: lbfgs failed to converge (status=1):\n",
            "STOP: TOTAL NO. of ITERATIONS REACHED LIMIT.\n",
            "\n",
            "Increase the number of iterations (max_iter) or scale the data as shown in:\n",
            "    https://scikit-learn.org/stable/modules/preprocessing.html\n",
            "Please also refer to the documentation for alternative solver options:\n",
            "    https://scikit-learn.org/stable/modules/linear_model.html#logistic-regression\n",
            "  n_iter_i = _check_optimize_result(\n",
            "D:\\Imp Programs\\Python\\lib\\site-packages\\sklearn\\linear_model\\_logistic.py:814: ConvergenceWarning: lbfgs failed to converge (status=1):\n",
            "STOP: TOTAL NO. of ITERATIONS REACHED LIMIT.\n",
            "\n",
            "Increase the number of iterations (max_iter) or scale the data as shown in:\n",
            "    https://scikit-learn.org/stable/modules/preprocessing.html\n",
            "Please also refer to the documentation for alternative solver options:\n",
            "    https://scikit-learn.org/stable/modules/linear_model.html#logistic-regression\n",
            "  n_iter_i = _check_optimize_result(\n",
            "D:\\Imp Programs\\Python\\lib\\site-packages\\sklearn\\linear_model\\_logistic.py:814: ConvergenceWarning: lbfgs failed to converge (status=1):\n",
            "STOP: TOTAL NO. of ITERATIONS REACHED LIMIT.\n",
            "\n",
            "Increase the number of iterations (max_iter) or scale the data as shown in:\n",
            "    https://scikit-learn.org/stable/modules/preprocessing.html\n",
            "Please also refer to the documentation for alternative solver options:\n",
            "    https://scikit-learn.org/stable/modules/linear_model.html#logistic-regression\n",
            "  n_iter_i = _check_optimize_result(\n",
            "D:\\Imp Programs\\Python\\lib\\site-packages\\sklearn\\linear_model\\_logistic.py:814: ConvergenceWarning: lbfgs failed to converge (status=1):\n",
            "STOP: TOTAL NO. of ITERATIONS REACHED LIMIT.\n",
            "\n",
            "Increase the number of iterations (max_iter) or scale the data as shown in:\n",
            "    https://scikit-learn.org/stable/modules/preprocessing.html\n",
            "Please also refer to the documentation for alternative solver options:\n",
            "    https://scikit-learn.org/stable/modules/linear_model.html#logistic-regression\n",
            "  n_iter_i = _check_optimize_result(\n",
            "D:\\Imp Programs\\Python\\lib\\site-packages\\sklearn\\linear_model\\_logistic.py:814: ConvergenceWarning: lbfgs failed to converge (status=1):\n",
            "STOP: TOTAL NO. of ITERATIONS REACHED LIMIT.\n",
            "\n",
            "Increase the number of iterations (max_iter) or scale the data as shown in:\n",
            "    https://scikit-learn.org/stable/modules/preprocessing.html\n",
            "Please also refer to the documentation for alternative solver options:\n",
            "    https://scikit-learn.org/stable/modules/linear_model.html#logistic-regression\n",
            "  n_iter_i = _check_optimize_result(\n",
            "D:\\Imp Programs\\Python\\lib\\site-packages\\sklearn\\linear_model\\_logistic.py:814: ConvergenceWarning: lbfgs failed to converge (status=1):\n",
            "STOP: TOTAL NO. of ITERATIONS REACHED LIMIT.\n",
            "\n",
            "Increase the number of iterations (max_iter) or scale the data as shown in:\n",
            "    https://scikit-learn.org/stable/modules/preprocessing.html\n",
            "Please also refer to the documentation for alternative solver options:\n",
            "    https://scikit-learn.org/stable/modules/linear_model.html#logistic-regression\n",
            "  n_iter_i = _check_optimize_result(\n",
            "D:\\Imp Programs\\Python\\lib\\site-packages\\sklearn\\linear_model\\_logistic.py:814: ConvergenceWarning: lbfgs failed to converge (status=1):\n",
            "STOP: TOTAL NO. of ITERATIONS REACHED LIMIT.\n",
            "\n",
            "Increase the number of iterations (max_iter) or scale the data as shown in:\n",
            "    https://scikit-learn.org/stable/modules/preprocessing.html\n",
            "Please also refer to the documentation for alternative solver options:\n",
            "    https://scikit-learn.org/stable/modules/linear_model.html#logistic-regression\n",
            "  n_iter_i = _check_optimize_result(\n",
            "D:\\Imp Programs\\Python\\lib\\site-packages\\sklearn\\linear_model\\_logistic.py:814: ConvergenceWarning: lbfgs failed to converge (status=1):\n",
            "STOP: TOTAL NO. of ITERATIONS REACHED LIMIT.\n",
            "\n",
            "Increase the number of iterations (max_iter) or scale the data as shown in:\n",
            "    https://scikit-learn.org/stable/modules/preprocessing.html\n",
            "Please also refer to the documentation for alternative solver options:\n",
            "    https://scikit-learn.org/stable/modules/linear_model.html#logistic-regression\n",
            "  n_iter_i = _check_optimize_result(\n",
            "D:\\Imp Programs\\Python\\lib\\site-packages\\sklearn\\linear_model\\_logistic.py:814: ConvergenceWarning: lbfgs failed to converge (status=1):\n",
            "STOP: TOTAL NO. of ITERATIONS REACHED LIMIT.\n",
            "\n",
            "Increase the number of iterations (max_iter) or scale the data as shown in:\n",
            "    https://scikit-learn.org/stable/modules/preprocessing.html\n",
            "Please also refer to the documentation for alternative solver options:\n",
            "    https://scikit-learn.org/stable/modules/linear_model.html#logistic-regression\n",
            "  n_iter_i = _check_optimize_result(\n",
            "D:\\Imp Programs\\Python\\lib\\site-packages\\sklearn\\linear_model\\_logistic.py:814: ConvergenceWarning: lbfgs failed to converge (status=1):\n",
            "STOP: TOTAL NO. of ITERATIONS REACHED LIMIT.\n",
            "\n",
            "Increase the number of iterations (max_iter) or scale the data as shown in:\n",
            "    https://scikit-learn.org/stable/modules/preprocessing.html\n",
            "Please also refer to the documentation for alternative solver options:\n",
            "    https://scikit-learn.org/stable/modules/linear_model.html#logistic-regression\n",
            "  n_iter_i = _check_optimize_result(\n",
            "D:\\Imp Programs\\Python\\lib\\site-packages\\sklearn\\linear_model\\_logistic.py:814: ConvergenceWarning: lbfgs failed to converge (status=1):\n",
            "STOP: TOTAL NO. of ITERATIONS REACHED LIMIT.\n",
            "\n",
            "Increase the number of iterations (max_iter) or scale the data as shown in:\n",
            "    https://scikit-learn.org/stable/modules/preprocessing.html\n",
            "Please also refer to the documentation for alternative solver options:\n",
            "    https://scikit-learn.org/stable/modules/linear_model.html#logistic-regression\n",
            "  n_iter_i = _check_optimize_result(\n",
            "D:\\Imp Programs\\Python\\lib\\site-packages\\sklearn\\linear_model\\_logistic.py:814: ConvergenceWarning: lbfgs failed to converge (status=1):\n",
            "STOP: TOTAL NO. of ITERATIONS REACHED LIMIT.\n",
            "\n",
            "Increase the number of iterations (max_iter) or scale the data as shown in:\n",
            "    https://scikit-learn.org/stable/modules/preprocessing.html\n",
            "Please also refer to the documentation for alternative solver options:\n",
            "    https://scikit-learn.org/stable/modules/linear_model.html#logistic-regression\n",
            "  n_iter_i = _check_optimize_result(\n",
            "D:\\Imp Programs\\Python\\lib\\site-packages\\sklearn\\linear_model\\_logistic.py:814: ConvergenceWarning: lbfgs failed to converge (status=1):\n",
            "STOP: TOTAL NO. of ITERATIONS REACHED LIMIT.\n",
            "\n",
            "Increase the number of iterations (max_iter) or scale the data as shown in:\n",
            "    https://scikit-learn.org/stable/modules/preprocessing.html\n",
            "Please also refer to the documentation for alternative solver options:\n",
            "    https://scikit-learn.org/stable/modules/linear_model.html#logistic-regression\n",
            "  n_iter_i = _check_optimize_result(\n",
            "D:\\Imp Programs\\Python\\lib\\site-packages\\sklearn\\linear_model\\_logistic.py:814: ConvergenceWarning: lbfgs failed to converge (status=1):\n",
            "STOP: TOTAL NO. of ITERATIONS REACHED LIMIT.\n",
            "\n",
            "Increase the number of iterations (max_iter) or scale the data as shown in:\n",
            "    https://scikit-learn.org/stable/modules/preprocessing.html\n",
            "Please also refer to the documentation for alternative solver options:\n",
            "    https://scikit-learn.org/stable/modules/linear_model.html#logistic-regression\n",
            "  n_iter_i = _check_optimize_result(\n",
            "D:\\Imp Programs\\Python\\lib\\site-packages\\sklearn\\linear_model\\_logistic.py:814: ConvergenceWarning: lbfgs failed to converge (status=1):\n",
            "STOP: TOTAL NO. of ITERATIONS REACHED LIMIT.\n",
            "\n",
            "Increase the number of iterations (max_iter) or scale the data as shown in:\n",
            "    https://scikit-learn.org/stable/modules/preprocessing.html\n",
            "Please also refer to the documentation for alternative solver options:\n",
            "    https://scikit-learn.org/stable/modules/linear_model.html#logistic-regression\n",
            "  n_iter_i = _check_optimize_result(\n",
            "D:\\Imp Programs\\Python\\lib\\site-packages\\sklearn\\linear_model\\_logistic.py:814: ConvergenceWarning: lbfgs failed to converge (status=1):\n",
            "STOP: TOTAL NO. of ITERATIONS REACHED LIMIT.\n",
            "\n",
            "Increase the number of iterations (max_iter) or scale the data as shown in:\n",
            "    https://scikit-learn.org/stable/modules/preprocessing.html\n",
            "Please also refer to the documentation for alternative solver options:\n",
            "    https://scikit-learn.org/stable/modules/linear_model.html#logistic-regression\n",
            "  n_iter_i = _check_optimize_result(\n",
            "D:\\Imp Programs\\Python\\lib\\site-packages\\sklearn\\linear_model\\_logistic.py:814: ConvergenceWarning: lbfgs failed to converge (status=1):\n",
            "STOP: TOTAL NO. of ITERATIONS REACHED LIMIT.\n",
            "\n",
            "Increase the number of iterations (max_iter) or scale the data as shown in:\n",
            "    https://scikit-learn.org/stable/modules/preprocessing.html\n",
            "Please also refer to the documentation for alternative solver options:\n",
            "    https://scikit-learn.org/stable/modules/linear_model.html#logistic-regression\n",
            "  n_iter_i = _check_optimize_result(\n",
            "D:\\Imp Programs\\Python\\lib\\site-packages\\sklearn\\linear_model\\_logistic.py:814: ConvergenceWarning: lbfgs failed to converge (status=1):\n",
            "STOP: TOTAL NO. of ITERATIONS REACHED LIMIT.\n",
            "\n",
            "Increase the number of iterations (max_iter) or scale the data as shown in:\n",
            "    https://scikit-learn.org/stable/modules/preprocessing.html\n",
            "Please also refer to the documentation for alternative solver options:\n",
            "    https://scikit-learn.org/stable/modules/linear_model.html#logistic-regression\n",
            "  n_iter_i = _check_optimize_result(\n",
            "D:\\Imp Programs\\Python\\lib\\site-packages\\sklearn\\linear_model\\_logistic.py:814: ConvergenceWarning: lbfgs failed to converge (status=1):\n",
            "STOP: TOTAL NO. of ITERATIONS REACHED LIMIT.\n",
            "\n",
            "Increase the number of iterations (max_iter) or scale the data as shown in:\n",
            "    https://scikit-learn.org/stable/modules/preprocessing.html\n",
            "Please also refer to the documentation for alternative solver options:\n",
            "    https://scikit-learn.org/stable/modules/linear_model.html#logistic-regression\n",
            "  n_iter_i = _check_optimize_result(\n",
            "D:\\Imp Programs\\Python\\lib\\site-packages\\sklearn\\linear_model\\_logistic.py:814: ConvergenceWarning: lbfgs failed to converge (status=1):\n",
            "STOP: TOTAL NO. of ITERATIONS REACHED LIMIT.\n",
            "\n",
            "Increase the number of iterations (max_iter) or scale the data as shown in:\n",
            "    https://scikit-learn.org/stable/modules/preprocessing.html\n",
            "Please also refer to the documentation for alternative solver options:\n",
            "    https://scikit-learn.org/stable/modules/linear_model.html#logistic-regression\n",
            "  n_iter_i = _check_optimize_result(\n",
            "D:\\Imp Programs\\Python\\lib\\site-packages\\sklearn\\linear_model\\_logistic.py:814: ConvergenceWarning: lbfgs failed to converge (status=1):\n",
            "STOP: TOTAL NO. of ITERATIONS REACHED LIMIT.\n",
            "\n",
            "Increase the number of iterations (max_iter) or scale the data as shown in:\n",
            "    https://scikit-learn.org/stable/modules/preprocessing.html\n",
            "Please also refer to the documentation for alternative solver options:\n",
            "    https://scikit-learn.org/stable/modules/linear_model.html#logistic-regression\n",
            "  n_iter_i = _check_optimize_result(\n",
            "D:\\Imp Programs\\Python\\lib\\site-packages\\sklearn\\linear_model\\_logistic.py:814: ConvergenceWarning: lbfgs failed to converge (status=1):\n",
            "STOP: TOTAL NO. of ITERATIONS REACHED LIMIT.\n",
            "\n",
            "Increase the number of iterations (max_iter) or scale the data as shown in:\n",
            "    https://scikit-learn.org/stable/modules/preprocessing.html\n",
            "Please also refer to the documentation for alternative solver options:\n",
            "    https://scikit-learn.org/stable/modules/linear_model.html#logistic-regression\n",
            "  n_iter_i = _check_optimize_result(\n",
            "D:\\Imp Programs\\Python\\lib\\site-packages\\sklearn\\linear_model\\_logistic.py:814: ConvergenceWarning: lbfgs failed to converge (status=1):\n",
            "STOP: TOTAL NO. of ITERATIONS REACHED LIMIT.\n",
            "\n",
            "Increase the number of iterations (max_iter) or scale the data as shown in:\n",
            "    https://scikit-learn.org/stable/modules/preprocessing.html\n",
            "Please also refer to the documentation for alternative solver options:\n",
            "    https://scikit-learn.org/stable/modules/linear_model.html#logistic-regression\n",
            "  n_iter_i = _check_optimize_result(\n",
            "D:\\Imp Programs\\Python\\lib\\site-packages\\sklearn\\linear_model\\_logistic.py:814: ConvergenceWarning: lbfgs failed to converge (status=1):\n",
            "STOP: TOTAL NO. of ITERATIONS REACHED LIMIT.\n",
            "\n",
            "Increase the number of iterations (max_iter) or scale the data as shown in:\n",
            "    https://scikit-learn.org/stable/modules/preprocessing.html\n",
            "Please also refer to the documentation for alternative solver options:\n",
            "    https://scikit-learn.org/stable/modules/linear_model.html#logistic-regression\n",
            "  n_iter_i = _check_optimize_result(\n",
            "D:\\Imp Programs\\Python\\lib\\site-packages\\sklearn\\linear_model\\_logistic.py:814: ConvergenceWarning: lbfgs failed to converge (status=1):\n",
            "STOP: TOTAL NO. of ITERATIONS REACHED LIMIT.\n",
            "\n",
            "Increase the number of iterations (max_iter) or scale the data as shown in:\n",
            "    https://scikit-learn.org/stable/modules/preprocessing.html\n",
            "Please also refer to the documentation for alternative solver options:\n",
            "    https://scikit-learn.org/stable/modules/linear_model.html#logistic-regression\n",
            "  n_iter_i = _check_optimize_result(\n",
            "D:\\Imp Programs\\Python\\lib\\site-packages\\sklearn\\linear_model\\_logistic.py:814: ConvergenceWarning: lbfgs failed to converge (status=1):\n",
            "STOP: TOTAL NO. of ITERATIONS REACHED LIMIT.\n",
            "\n",
            "Increase the number of iterations (max_iter) or scale the data as shown in:\n",
            "    https://scikit-learn.org/stable/modules/preprocessing.html\n",
            "Please also refer to the documentation for alternative solver options:\n",
            "    https://scikit-learn.org/stable/modules/linear_model.html#logistic-regression\n",
            "  n_iter_i = _check_optimize_result(\n",
            "D:\\Imp Programs\\Python\\lib\\site-packages\\sklearn\\linear_model\\_logistic.py:814: ConvergenceWarning: lbfgs failed to converge (status=1):\n",
            "STOP: TOTAL NO. of ITERATIONS REACHED LIMIT.\n",
            "\n",
            "Increase the number of iterations (max_iter) or scale the data as shown in:\n",
            "    https://scikit-learn.org/stable/modules/preprocessing.html\n",
            "Please also refer to the documentation for alternative solver options:\n",
            "    https://scikit-learn.org/stable/modules/linear_model.html#logistic-regression\n",
            "  n_iter_i = _check_optimize_result(\n",
            "D:\\Imp Programs\\Python\\lib\\site-packages\\sklearn\\linear_model\\_logistic.py:814: ConvergenceWarning: lbfgs failed to converge (status=1):\n",
            "STOP: TOTAL NO. of ITERATIONS REACHED LIMIT.\n",
            "\n",
            "Increase the number of iterations (max_iter) or scale the data as shown in:\n",
            "    https://scikit-learn.org/stable/modules/preprocessing.html\n",
            "Please also refer to the documentation for alternative solver options:\n",
            "    https://scikit-learn.org/stable/modules/linear_model.html#logistic-regression\n",
            "  n_iter_i = _check_optimize_result(\n",
            "D:\\Imp Programs\\Python\\lib\\site-packages\\sklearn\\linear_model\\_logistic.py:814: ConvergenceWarning: lbfgs failed to converge (status=1):\n",
            "STOP: TOTAL NO. of ITERATIONS REACHED LIMIT.\n",
            "\n",
            "Increase the number of iterations (max_iter) or scale the data as shown in:\n",
            "    https://scikit-learn.org/stable/modules/preprocessing.html\n",
            "Please also refer to the documentation for alternative solver options:\n",
            "    https://scikit-learn.org/stable/modules/linear_model.html#logistic-regression\n",
            "  n_iter_i = _check_optimize_result(\n",
            "D:\\Imp Programs\\Python\\lib\\site-packages\\sklearn\\linear_model\\_logistic.py:814: ConvergenceWarning: lbfgs failed to converge (status=1):\n",
            "STOP: TOTAL NO. of ITERATIONS REACHED LIMIT.\n",
            "\n",
            "Increase the number of iterations (max_iter) or scale the data as shown in:\n",
            "    https://scikit-learn.org/stable/modules/preprocessing.html\n",
            "Please also refer to the documentation for alternative solver options:\n",
            "    https://scikit-learn.org/stable/modules/linear_model.html#logistic-regression\n",
            "  n_iter_i = _check_optimize_result(\n",
            "D:\\Imp Programs\\Python\\lib\\site-packages\\sklearn\\linear_model\\_logistic.py:814: ConvergenceWarning: lbfgs failed to converge (status=1):\n",
            "STOP: TOTAL NO. of ITERATIONS REACHED LIMIT.\n",
            "\n",
            "Increase the number of iterations (max_iter) or scale the data as shown in:\n",
            "    https://scikit-learn.org/stable/modules/preprocessing.html\n",
            "Please also refer to the documentation for alternative solver options:\n",
            "    https://scikit-learn.org/stable/modules/linear_model.html#logistic-regression\n",
            "  n_iter_i = _check_optimize_result(\n",
            "D:\\Imp Programs\\Python\\lib\\site-packages\\sklearn\\linear_model\\_logistic.py:814: ConvergenceWarning: lbfgs failed to converge (status=1):\n",
            "STOP: TOTAL NO. of ITERATIONS REACHED LIMIT.\n",
            "\n",
            "Increase the number of iterations (max_iter) or scale the data as shown in:\n",
            "    https://scikit-learn.org/stable/modules/preprocessing.html\n",
            "Please also refer to the documentation for alternative solver options:\n",
            "    https://scikit-learn.org/stable/modules/linear_model.html#logistic-regression\n",
            "  n_iter_i = _check_optimize_result(\n",
            "D:\\Imp Programs\\Python\\lib\\site-packages\\sklearn\\linear_model\\_logistic.py:814: ConvergenceWarning: lbfgs failed to converge (status=1):\n",
            "STOP: TOTAL NO. of ITERATIONS REACHED LIMIT.\n",
            "\n",
            "Increase the number of iterations (max_iter) or scale the data as shown in:\n",
            "    https://scikit-learn.org/stable/modules/preprocessing.html\n",
            "Please also refer to the documentation for alternative solver options:\n",
            "    https://scikit-learn.org/stable/modules/linear_model.html#logistic-regression\n",
            "  n_iter_i = _check_optimize_result(\n",
            "D:\\Imp Programs\\Python\\lib\\site-packages\\sklearn\\linear_model\\_logistic.py:814: ConvergenceWarning: lbfgs failed to converge (status=1):\n",
            "STOP: TOTAL NO. of ITERATIONS REACHED LIMIT.\n",
            "\n",
            "Increase the number of iterations (max_iter) or scale the data as shown in:\n",
            "    https://scikit-learn.org/stable/modules/preprocessing.html\n",
            "Please also refer to the documentation for alternative solver options:\n",
            "    https://scikit-learn.org/stable/modules/linear_model.html#logistic-regression\n",
            "  n_iter_i = _check_optimize_result(\n",
            "D:\\Imp Programs\\Python\\lib\\site-packages\\sklearn\\linear_model\\_logistic.py:814: ConvergenceWarning: lbfgs failed to converge (status=1):\n",
            "STOP: TOTAL NO. of ITERATIONS REACHED LIMIT.\n",
            "\n",
            "Increase the number of iterations (max_iter) or scale the data as shown in:\n",
            "    https://scikit-learn.org/stable/modules/preprocessing.html\n",
            "Please also refer to the documentation for alternative solver options:\n",
            "    https://scikit-learn.org/stable/modules/linear_model.html#logistic-regression\n",
            "  n_iter_i = _check_optimize_result(\n",
            "D:\\Imp Programs\\Python\\lib\\site-packages\\sklearn\\linear_model\\_logistic.py:814: ConvergenceWarning: lbfgs failed to converge (status=1):\n",
            "STOP: TOTAL NO. of ITERATIONS REACHED LIMIT.\n",
            "\n",
            "Increase the number of iterations (max_iter) or scale the data as shown in:\n",
            "    https://scikit-learn.org/stable/modules/preprocessing.html\n",
            "Please also refer to the documentation for alternative solver options:\n",
            "    https://scikit-learn.org/stable/modules/linear_model.html#logistic-regression\n",
            "  n_iter_i = _check_optimize_result(\n",
            "D:\\Imp Programs\\Python\\lib\\site-packages\\sklearn\\linear_model\\_logistic.py:814: ConvergenceWarning: lbfgs failed to converge (status=1):\n",
            "STOP: TOTAL NO. of ITERATIONS REACHED LIMIT.\n",
            "\n",
            "Increase the number of iterations (max_iter) or scale the data as shown in:\n",
            "    https://scikit-learn.org/stable/modules/preprocessing.html\n",
            "Please also refer to the documentation for alternative solver options:\n",
            "    https://scikit-learn.org/stable/modules/linear_model.html#logistic-regression\n",
            "  n_iter_i = _check_optimize_result(\n",
            "D:\\Imp Programs\\Python\\lib\\site-packages\\sklearn\\linear_model\\_logistic.py:814: ConvergenceWarning: lbfgs failed to converge (status=1):\n",
            "STOP: TOTAL NO. of ITERATIONS REACHED LIMIT.\n",
            "\n",
            "Increase the number of iterations (max_iter) or scale the data as shown in:\n",
            "    https://scikit-learn.org/stable/modules/preprocessing.html\n",
            "Please also refer to the documentation for alternative solver options:\n",
            "    https://scikit-learn.org/stable/modules/linear_model.html#logistic-regression\n",
            "  n_iter_i = _check_optimize_result(\n",
            "D:\\Imp Programs\\Python\\lib\\site-packages\\sklearn\\linear_model\\_logistic.py:814: ConvergenceWarning: lbfgs failed to converge (status=1):\n",
            "STOP: TOTAL NO. of ITERATIONS REACHED LIMIT.\n",
            "\n",
            "Increase the number of iterations (max_iter) or scale the data as shown in:\n",
            "    https://scikit-learn.org/stable/modules/preprocessing.html\n",
            "Please also refer to the documentation for alternative solver options:\n",
            "    https://scikit-learn.org/stable/modules/linear_model.html#logistic-regression\n",
            "  n_iter_i = _check_optimize_result(\n",
            "D:\\Imp Programs\\Python\\lib\\site-packages\\sklearn\\linear_model\\_logistic.py:814: ConvergenceWarning: lbfgs failed to converge (status=1):\n",
            "STOP: TOTAL NO. of ITERATIONS REACHED LIMIT.\n",
            "\n",
            "Increase the number of iterations (max_iter) or scale the data as shown in:\n",
            "    https://scikit-learn.org/stable/modules/preprocessing.html\n",
            "Please also refer to the documentation for alternative solver options:\n",
            "    https://scikit-learn.org/stable/modules/linear_model.html#logistic-regression\n",
            "  n_iter_i = _check_optimize_result(\n",
            "D:\\Imp Programs\\Python\\lib\\site-packages\\sklearn\\linear_model\\_logistic.py:814: ConvergenceWarning: lbfgs failed to converge (status=1):\n",
            "STOP: TOTAL NO. of ITERATIONS REACHED LIMIT.\n",
            "\n",
            "Increase the number of iterations (max_iter) or scale the data as shown in:\n",
            "    https://scikit-learn.org/stable/modules/preprocessing.html\n",
            "Please also refer to the documentation for alternative solver options:\n",
            "    https://scikit-learn.org/stable/modules/linear_model.html#logistic-regression\n",
            "  n_iter_i = _check_optimize_result(\n",
            "D:\\Imp Programs\\Python\\lib\\site-packages\\sklearn\\linear_model\\_logistic.py:814: ConvergenceWarning: lbfgs failed to converge (status=1):\n",
            "STOP: TOTAL NO. of ITERATIONS REACHED LIMIT.\n",
            "\n",
            "Increase the number of iterations (max_iter) or scale the data as shown in:\n",
            "    https://scikit-learn.org/stable/modules/preprocessing.html\n",
            "Please also refer to the documentation for alternative solver options:\n",
            "    https://scikit-learn.org/stable/modules/linear_model.html#logistic-regression\n",
            "  n_iter_i = _check_optimize_result(\n",
            "D:\\Imp Programs\\Python\\lib\\site-packages\\sklearn\\linear_model\\_logistic.py:814: ConvergenceWarning: lbfgs failed to converge (status=1):\n",
            "STOP: TOTAL NO. of ITERATIONS REACHED LIMIT.\n",
            "\n",
            "Increase the number of iterations (max_iter) or scale the data as shown in:\n",
            "    https://scikit-learn.org/stable/modules/preprocessing.html\n",
            "Please also refer to the documentation for alternative solver options:\n",
            "    https://scikit-learn.org/stable/modules/linear_model.html#logistic-regression\n",
            "  n_iter_i = _check_optimize_result(\n",
            "D:\\Imp Programs\\Python\\lib\\site-packages\\sklearn\\linear_model\\_logistic.py:814: ConvergenceWarning: lbfgs failed to converge (status=1):\n",
            "STOP: TOTAL NO. of ITERATIONS REACHED LIMIT.\n",
            "\n",
            "Increase the number of iterations (max_iter) or scale the data as shown in:\n",
            "    https://scikit-learn.org/stable/modules/preprocessing.html\n",
            "Please also refer to the documentation for alternative solver options:\n",
            "    https://scikit-learn.org/stable/modules/linear_model.html#logistic-regression\n",
            "  n_iter_i = _check_optimize_result(\n",
            "D:\\Imp Programs\\Python\\lib\\site-packages\\sklearn\\linear_model\\_logistic.py:814: ConvergenceWarning: lbfgs failed to converge (status=1):\n",
            "STOP: TOTAL NO. of ITERATIONS REACHED LIMIT.\n",
            "\n",
            "Increase the number of iterations (max_iter) or scale the data as shown in:\n",
            "    https://scikit-learn.org/stable/modules/preprocessing.html\n",
            "Please also refer to the documentation for alternative solver options:\n",
            "    https://scikit-learn.org/stable/modules/linear_model.html#logistic-regression\n",
            "  n_iter_i = _check_optimize_result(\n",
            "D:\\Imp Programs\\Python\\lib\\site-packages\\sklearn\\linear_model\\_logistic.py:814: ConvergenceWarning: lbfgs failed to converge (status=1):\n",
            "STOP: TOTAL NO. of ITERATIONS REACHED LIMIT.\n",
            "\n",
            "Increase the number of iterations (max_iter) or scale the data as shown in:\n",
            "    https://scikit-learn.org/stable/modules/preprocessing.html\n",
            "Please also refer to the documentation for alternative solver options:\n",
            "    https://scikit-learn.org/stable/modules/linear_model.html#logistic-regression\n",
            "  n_iter_i = _check_optimize_result(\n",
            "D:\\Imp Programs\\Python\\lib\\site-packages\\sklearn\\linear_model\\_logistic.py:814: ConvergenceWarning: lbfgs failed to converge (status=1):\n",
            "STOP: TOTAL NO. of ITERATIONS REACHED LIMIT.\n",
            "\n",
            "Increase the number of iterations (max_iter) or scale the data as shown in:\n",
            "    https://scikit-learn.org/stable/modules/preprocessing.html\n",
            "Please also refer to the documentation for alternative solver options:\n",
            "    https://scikit-learn.org/stable/modules/linear_model.html#logistic-regression\n",
            "  n_iter_i = _check_optimize_result(\n"
          ]
        },
        {
          "data": {
            "text/plain": [
              "0.5781563126252505"
            ]
          },
          "execution_count": 53,
          "metadata": {},
          "output_type": "execute_result"
        }
      ],
      "source": [
        "from sklearn.linear_model import LogisticRegressionCV\n",
        "from sklearn.metrics import accuracy_score\n",
        "\n",
        "logi = LogisticRegressionCV(Cs=20, cv=3, random_state=42, max_iter=100)\n",
        "logi.fit(X_train_seq_trunc, y_train)\n",
        "\n",
        "y_pred = logi.predict(X_test_seq_trunc)\n",
        "acc = accuracy_score(y_test, y_pred)\n",
        "acc\n"
      ]
    }
  ],
  "metadata": {
    "colab": {
      "name": "caseStudy.ipynb",
      "provenance": []
    },
    "interpreter": {
      "hash": "3b97bdc2c87e206e8291e5ab4f714e0f91846bfc9349b2ee1278ba67b5e1fb2e"
    },
    "kernelspec": {
      "display_name": "Python 3.10.4 64-bit",
      "language": "python",
      "name": "python3"
    },
    "language_info": {
      "codemirror_mode": {
        "name": "ipython",
        "version": 3
      },
      "file_extension": ".py",
      "mimetype": "text/x-python",
      "name": "python",
      "nbconvert_exporter": "python",
      "pygments_lexer": "ipython3",
      "version": "3.10.4"
    },
    "orig_nbformat": 4
  },
  "nbformat": 4,
  "nbformat_minor": 0
}
